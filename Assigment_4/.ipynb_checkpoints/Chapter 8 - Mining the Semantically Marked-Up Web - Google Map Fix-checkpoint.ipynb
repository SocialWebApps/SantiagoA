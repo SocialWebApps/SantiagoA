{
 "metadata": {
  "name": "",
  "signature": "sha256:233b4f349b72cc127b8191bf76b4a3b5aef9e22756f989f6e9399ad086a20b9c"
 },
 "nbformat": 3,
 "nbformat_minor": 0,
 "worksheets": [
  {
   "cells": [
    {
     "cell_type": "markdown",
     "metadata": {},
     "source": [
      "#Install dependancies:\n",
      "If you do not have them"
     ]
    },
    {
     "cell_type": "code",
     "collapsed": false,
     "input": [
      "!pip install geopy\n",
      "!pip install requests\n",
      "!pip install BeautifulSoup\n",
      "!pip install simplejson"
     ],
     "language": "python",
     "metadata": {},
     "outputs": [
      {
       "output_type": "stream",
       "stream": "stdout",
       "text": [
        "Requirement already satisfied (use --upgrade to upgrade): geopy in c:\\anaconda\\lib\\site-packages\n",
        "Cleaning up...\n"
       ]
      },
      {
       "output_type": "stream",
       "stream": "stdout",
       "text": [
        "Requirement already satisfied (use --upgrade to upgrade): requests in c:\\anaconda\\lib\\site-packages\n",
        "Cleaning up...\n"
       ]
      },
      {
       "output_type": "stream",
       "stream": "stdout",
       "text": [
        "Requirement already satisfied (use --upgrade to upgrade): BeautifulSoup in c:\\anaconda\\lib\\site-packages\n",
        "Cleaning up...\n"
       ]
      },
      {
       "output_type": "stream",
       "stream": "stdout",
       "text": [
        "Requirement already satisfied (use --upgrade to upgrade): simplejson in c:\\anaconda\\lib\\site-packages\n",
        "Cleaning up...\n"
       ]
      }
     ],
     "prompt_number": 36
    },
    {
     "cell_type": "markdown",
     "metadata": {},
     "source": [
      "#Mining the Social Web, 2nd Edition\n",
      "\n",
      "##Chapter 8: Mining the Semantically Marked-Up Web: Extracting Microformats, Inferencing Over RDF, and More\n",
      "\n",
      "This IPython Notebook provides an interactive way to follow along with and explore the numbered examples from [_Mining the Social Web (2nd Edition)_](http://bit.ly/135dHfs). The intent behind this notebook is to reinforce the concepts from the sample code in a fun, convenient, and effective way. This notebook assumes that you are reading along with the book and have the context of the discussion as you work through these exercises.\n",
      "\n",
      "In the somewhat unlikely event that you've somehow stumbled across this notebook outside of its context on GitHub, [you can find the full source code repository here](http://bit.ly/16kGNyb).\n",
      "\n",
      "## Copyright and Licensing\n",
      "\n",
      "You are free to use or adapt this notebook for any purpose you'd like. However, please respect the [Simplified BSD License](https://github.com/ptwobrussell/Mining-the-Social-Web-2nd-Edition/blob/master/LICENSE.txt) that governs its use."
     ]
    },
    {
     "cell_type": "heading",
     "level": 2,
     "metadata": {},
     "source": [
      "Example 1. Extracting geo-microformatted data from a Wikipedia page"
     ]
    },
    {
     "cell_type": "code",
     "collapsed": false,
     "input": [
      "import requests # pip install requests\n",
      "from BeautifulSoup import BeautifulSoup # pip install BeautifulSoup\n",
      "\n",
      "# XXX: Any URL containing a geo microformat...\n",
      "\n",
      "URL = 'http://en.wikipedia.org/wiki/Franklin,_Tennessee'\n",
      "\n",
      "\n",
      "# In the case of extracting content from Wikipedia, be sure to\n",
      "# review its \"Bot Policy,\" which is defined at\n",
      "# http://meta.wikimedia.org/wiki/Bot_policy#Unacceptable_usage\n",
      "\n",
      "req = requests.get(URL, headers={'User-Agent' : \"Mining the Social Web\"})\n",
      "soup = BeautifulSoup(req.text)\n",
      "\n",
      "geoTag = soup.find(True, 'geo')\n",
      "\n",
      "if geoTag and len(geoTag) > 1:\n",
      "    lat = geoTag.find(True, 'latitude').string\n",
      "    lon = geoTag.find(True, 'longitude').string\n",
      "    print 'Location is at', lat, lon\n",
      "elif geoTag and len(geoTag) == 1:\n",
      "    (lat, lon) = geoTag.string.split(';')\n",
      "    (lat, lon) = (lat.strip(), lon.strip())\n",
      "    print 'Location is at', lat, lon\n",
      "else:\n",
      "    print 'No location found'"
     ],
     "language": "python",
     "metadata": {},
     "outputs": [
      {
       "output_type": "stream",
       "stream": "stdout",
       "text": [
        "Location is at 35.92917 -86.85750\n"
       ]
      }
     ],
     "prompt_number": 37
    },
    {
     "cell_type": "heading",
     "level": 2,
     "metadata": {},
     "source": [
      "Example 2. Displaying geo-microformats with Google Maps in IPython Notebook"
     ]
    },
    {
     "cell_type": "markdown",
     "metadata": {},
     "source": [
      "This line: google_maps_url = \"http://maps.google.com/maps?q={0}+{1}&\" + \\\n",
      "  \"ie=UTF8&t=h&z=14&{0},{1}&output=embed\".format(lat, lng)\n",
      "  \n",
      "was changed to: url = \"http://maps.google.com/maps?q=\"+str(lat)+\",\"+str(lon)+\"&\" + \\\n",
      "  \"ie=UTF8&t=h&z=\"+str(zoom)+\"&\"+str(lat)+\",\"+str(lon)+\"&output=embed\"\n",
      "\n",
      "With that changed the map was corrected.\n",
      "###Note, during testing there was one point that the output form Example 1 gave me the wrong cords for the place."
     ]
    },
    {
     "cell_type": "code",
     "collapsed": false,
     "input": [
      "from IPython.display import IFrame\n",
      "from IPython.core.display import display\n",
      "\n",
      "# Google Maps URL template for an iframe\n",
      "'''google_maps_url = \"http://maps.google.com/maps?q={0}+{1}&\" + \\\n",
      "  \"ie=UTF8&t=h&z=14&{0},{1}&output=embed\"'''\n",
      "\n",
      "\n",
      "print 'Location is at', lat, lon\n",
      "\n",
      "zoom = 14\n",
      "\n",
      "url = \"http://maps.google.com/maps?q=\"+str(lat)+\",\"+str(lon)+\"&\" + \\\n",
      "  \"ie=UTF8&t=h&z=\"+str(zoom)+\"&\"+str(lat)+\",\"+str(lon)+\"&output=embed\"\n",
      "\n",
      "display(IFrame(url, '800px', '450px'))"
     ],
     "language": "python",
     "metadata": {},
     "outputs": [
      {
       "output_type": "stream",
       "stream": "stdout",
       "text": [
        "Location is at 35.92917 -86.85750\n"
       ]
      },
      {
       "html": [
        "\n",
        "        <iframe\n",
        "            width=\"800px\"\n",
        "            height=450px\"\n",
        "            src=\"http://maps.google.com/maps?q=35.92917,-86.85750&ie=UTF8&t=h&z=14&35.92917,-86.85750&output=embed\"\n",
        "            frameborder=\"0\"\n",
        "            allowfullscreen\n",
        "        ></iframe>\n",
        "        "
       ],
       "metadata": {},
       "output_type": "display_data",
       "text": [
        "<IPython.lib.display.IFrame at 0x632a278>"
       ]
      }
     ],
     "prompt_number": 43
    },
    {
     "cell_type": "markdown",
     "metadata": {},
     "source": [
      "#####During testing I notised that Example 1 Geo cords out was sometimes wrong. Since those cords can be changed by anyone that choses to edit the wiki page\n",
      "The following function: **get_coordinates** is from stackoverflow. What it does is: You enter a place, ex Miami and it gives you the cords"
     ]
    },
    {
     "cell_type": "code",
     "collapsed": false,
     "input": [
      "import urllib\n",
      "import simplejson\n",
      "\n",
      "googleGeocodeUrl = 'http://maps.googleapis.com/maps/api/geocode/json?'\n",
      "\n",
      "def get_coordinates(query, from_sensor=False):\n",
      "    query = query.encode('utf-8')\n",
      "    params = {\n",
      "        'address': query,\n",
      "        'sensor': \"true\" if from_sensor else \"false\"\n",
      "    }\n",
      "    url = googleGeocodeUrl + urllib.urlencode(params)\n",
      "\n",
      "    json_response = urllib.urlopen(url)\n",
      "    response = simplejson.loads(json_response.read())\n",
      "    if response['results']:\n",
      "        location = response['results'][0]['geometry']['location']\n",
      "        latitude, longitude = location['lat'], location['lng']\n",
      "        print query, latitude, longitude\n",
      "    else:\n",
      "        latitude, longitude = None, None\n",
      "        print query, \"<no results>\"\n",
      "    return latitude, longitude\n"
     ],
     "language": "python",
     "metadata": {},
     "outputs": [],
     "prompt_number": 39
    },
    {
     "cell_type": "markdown",
     "metadata": {},
     "source": [
      "The following function combines the above function and the display code to make it posible to display maps with a single line"
     ]
    },
    {
     "cell_type": "code",
     "collapsed": false,
     "input": [
      "def graphMap(place, zoom):\n",
      "    lat,lon = get_coordinates(place)\n",
      "    \n",
      "    url = \"http://maps.google.com/maps?q=\"+str(lat)+\",\"+str(lon)+\"&\" + \\\n",
      "    \"ie=UTF8&t=h&z=\"+str(zoom)+\"&\"+str(lat)+\",\"+str(lon)+\"&output=embed\"\n",
      "    \n",
      "    display(IFrame(url, '800px', '450px'))"
     ],
     "language": "python",
     "metadata": {},
     "outputs": [],
     "prompt_number": 40
    },
    {
     "cell_type": "markdown",
     "metadata": {},
     "source": [
      "###Proof that the code works"
     ]
    },
    {
     "cell_type": "code",
     "collapsed": false,
     "input": [
      "graphMap(\"Miami\", 14)"
     ],
     "language": "python",
     "metadata": {},
     "outputs": [
      {
       "output_type": "stream",
       "stream": "stdout",
       "text": [
        "Miami 25.7616798 -80.1917902\n"
       ]
      },
      {
       "html": [
        "\n",
        "        <iframe\n",
        "            width=\"800px\"\n",
        "            height=450px\"\n",
        "            src=\"http://maps.google.com/maps?q=25.7616798,-80.1917902&ie=UTF8&t=h&z=14&25.7616798,-80.1917902&output=embed\"\n",
        "            frameborder=\"0\"\n",
        "            allowfullscreen\n",
        "        ></iframe>\n",
        "        "
       ],
       "metadata": {},
       "output_type": "display_data",
       "text": [
        "<IPython.lib.display.IFrame at 0x3c06eb8>"
       ]
      }
     ],
     "prompt_number": 41
    },
    {
     "cell_type": "code",
     "collapsed": false,
     "input": [
      "graphMap(\"Franklin, TN\", 14)"
     ],
     "language": "python",
     "metadata": {},
     "outputs": [
      {
       "output_type": "stream",
       "stream": "stdout",
       "text": [
        "Franklin, TN 35.9250637 -86.8688899\n"
       ]
      },
      {
       "html": [
        "\n",
        "        <iframe\n",
        "            width=\"800px\"\n",
        "            height=450px\"\n",
        "            src=\"http://maps.google.com/maps?q=35.9250637,-86.8688899&ie=UTF8&t=h&z=14&35.9250637,-86.8688899&output=embed\"\n",
        "            frameborder=\"0\"\n",
        "            allowfullscreen\n",
        "        ></iframe>\n",
        "        "
       ],
       "metadata": {},
       "output_type": "display_data",
       "text": [
        "<IPython.lib.display.IFrame at 0x5f8ac88>"
       ]
      }
     ],
     "prompt_number": 42
    },
    {
     "cell_type": "code",
     "collapsed": false,
     "input": [],
     "language": "python",
     "metadata": {},
     "outputs": []
    }
   ],
   "metadata": {}
  }
 ]
}
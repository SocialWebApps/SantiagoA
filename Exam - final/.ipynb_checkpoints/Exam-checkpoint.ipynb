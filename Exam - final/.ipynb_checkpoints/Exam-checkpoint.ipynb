{
 "metadata": {
  "name": "",
  "signature": "sha256:9009f90351e658192b0a9b97c07b98cfefd09da1d1b36e93026497da13558fab"
 },
 "nbformat": 3,
 "nbformat_minor": 0,
 "worksheets": [
  {
   "cells": [
    {
     "cell_type": "markdown",
     "metadata": {},
     "source": [
      "#Assignment 2\n",
      "\n",
      "#####The following code are not necesary for the assigment, but makes scalability easier.\n",
      "\n",
      "- Accesses the dir that the files are located\n",
      "- Extracts the files automatically, then decompresses the files\n",
      "- Then reads the text files\n",
      "- Combines the text files into a single file\n",
      "\n",
      "#####First we change the working directory\n",
      "\n",
      "######Create a new folder.\n",
      "- Download the data to a folder, name the folder: gzFile\n",
      "    -- Link: http://1usagov.measuredvoice.com/2013/\n",
      "- Create a folder named Data.\n",
      "\n",
      "#####Your directory should contain:\n",
      "- Assigment2.ipynb\n",
      "- gzFile(folder)\n",
      "  - Downloaded data, in .gz zip fromat\n",
      "- Data (Folder)\n"
     ]
    },
    {
     "cell_type": "code",
     "collapsed": false,
     "input": [
      "print \"changes the directory to where you created the directory tree \\n\"\n",
      "#print \"Maybe not necesary\"\n",
      "%cd C:\\Users\\santiago\\Documents\\IPython Notebooks\\Exam"
     ],
     "language": "python",
     "metadata": {},
     "outputs": [
      {
       "output_type": "stream",
       "stream": "stdout",
       "text": [
        "changes the directory to where you created the directory tree \n",
        "\n",
        "C:\\Users\\santiago\\Documents\\IPython Notebooks\\Exam\n"
       ]
      }
     ],
     "prompt_number": 50
    },
    {
     "cell_type": "code",
     "collapsed": false,
     "input": [
      "# Accesses the dir that the files are located\n",
      "import os\n",
      "\n",
      "# Set the directory you want to start from\n",
      "rootDir = '.'\n",
      "directoryNameDic = {}\n",
      "fileNameList = []\n",
      "\n",
      "#Function to check the content of the directory\n",
      "def printDir(root):\n",
      "    for dirName, subdirList, fileList in os.walk(root):\n",
      "        #Creates a dictionary of the File name and Path\n",
      "        print('Found directory: %s' % dirName)\n",
      "        for fname in fileList:\n",
      "            print('\\t%s' % fname) \n",
      "            \n",
      "for dirName, subdirList, fileList in os.walk(rootDir):\n",
      "    #Creates a dictionary of the File name and Path\n",
      "    path,folder_name = os.path.split(dirName)\n",
      "    directoryNameDic[folder_name] = dirName\n",
      "\n",
      "#print \"Base Directory\"\n",
      "#printDir(rootDir)\n",
      "\n",
      "import gzip\n",
      "import glob\n",
      "import os.path\n",
      "# Sets the path based on the dictionary we created earlier\n",
      "source_dir = directoryNameDic.get(\"gzFile\")\n",
      "dest_dir = directoryNameDic.get(\"Data\")\n",
      "\n",
      "#Unconpresses the downloaded data\n",
      "for src_name in glob.glob(os.path.join(source_dir, '*.gz')):\n",
      "    base = os.path.basename(src_name)\n",
      "    dest_name = os.path.join(dest_dir, base[:-3]) + \".txt\" \n",
      "    with gzip.open(src_name, 'rb') as infile:\n",
      "        with open(dest_name, 'w') as outfile:\n",
      "            for line in infile:\n",
      "                outfile.write(line)\n",
      "                                   \n",
      "#print \"After Extraction Directory\"\n",
      "#printDir(rootDir)\n",
      "\n",
      "#Creates a list with the file names\n",
      "fileNameList =[]\n",
      "for dirName, subdirList, fileList in os.walk(directoryNameDic.get(\"Data\")):\n",
      "    for fname in fileList:\n",
      "        fileNameList.append(fname)\n",
      "\n",
      "#Prints the fileNameList\n",
      "#print fileNameList\n",
      "\n",
      "#Combines the data from all the files into a (very) large file\n",
      "pathname = directoryNameDic.get(\"Data\") +\"/\"+\"CombinedData.txt\" \n",
      "with open(pathname, 'w') as outfile:\n",
      "    for fname in fileNameList:\n",
      "        pathname = directoryNameDic.get(\"Data\") +\"/\"+fname  \n",
      "        #print pathname\n",
      "        with open(pathname) as infile:\n",
      "            for line in infile:\n",
      "                outfile.write(line)\n",
      "\n",
      "print \"--------------Directory Content------------------\"\n",
      "printDir(rootDir)"
     ],
     "language": "python",
     "metadata": {},
     "outputs": [
      {
       "output_type": "stream",
       "stream": "stdout",
       "text": [
        "--------------Directory Content------------------\n",
        "Found directory: .\n",
        "\tExam.ipynb\n",
        "\tExam.py\n",
        "Found directory: .\\.ipynb_checkpoints\n",
        "\tExam-checkpoint.ipynb\n",
        "Found directory: .\\Data\n",
        "\tCombinedData.txt\n",
        "\tusagov_bitly_data2013-05-17-1368817803.txt\n",
        "\tusagov_bitly_data2013-05-17-1368821404.txt\n",
        "\tusagov_bitly_data2013-05-17-1368825005.txt\n",
        "\tusagov_bitly_data2013-05-17-1368828605.txt\n",
        "\tusagov_bitly_data2013-05-17-1368832207.txt\n",
        "Found directory: .\\gzFile\n",
        "\tusagov_bitly_data2013-05-17-1368817803.gz\n",
        "\tusagov_bitly_data2013-05-17-1368821404.gz\n",
        "\tusagov_bitly_data2013-05-17-1368825005.gz\n",
        "\tusagov_bitly_data2013-05-17-1368828605.gz\n",
        "\tusagov_bitly_data2013-05-17-1368832207.gz\n"
       ]
      }
     ],
     "prompt_number": 51
    },
    {
     "cell_type": "code",
     "collapsed": false,
     "input": [
      "import json\n",
      "records = [json.loads(line) for line in open(pathname)]\n",
      "\n",
      "dataList = []\n",
      "for index in range(len(records)):\n",
      "    cord = 0,0\n",
      "\n",
      "    if 'll' in records[index]:\n",
      "        cord = (records[index]['ll'][0],records[index]['ll'][1])\n",
      "    else:\n",
      "        cord = 'NaN'\n",
      "    \n",
      "    if 'hh' in records[index]:\n",
      "        hh = records[index]['hh']\n",
      "    if 'r' in records[index]:\n",
      "        r = records[index]['r']\n",
      "    if 'u' in records[index]:\n",
      "        u = records[index]['u']   \n",
      "    #removes the records that have direct in the r field and only add the bit.ly adress to the List\n",
      "    if r != 'direct':\n",
      "        if hh == 'bit.ly':\n",
      "            data = (hh, r, u, cord)\n",
      "            dataList.append(data)  "
     ],
     "language": "python",
     "metadata": {},
     "outputs": [],
     "prompt_number": 52
    },
    {
     "cell_type": "markdown",
     "metadata": {},
     "source": [
      "#Remove duplicates from array"
     ]
    },
    {
     "cell_type": "code",
     "collapsed": false,
     "input": [
      "print \"With duplicates: \",len(dataList)\n",
      "dataList = list(set(dataList))\n",
      "print \"No Duplicates  : \",len(dataList)"
     ],
     "language": "python",
     "metadata": {},
     "outputs": [
      {
       "output_type": "stream",
       "stream": "stdout",
       "text": [
        "With duplicates:  129\n",
        "No Duplicates  :  123\n"
       ]
      }
     ],
     "prompt_number": 53
    },
    {
     "cell_type": "markdown",
     "metadata": {},
     "source": [
      "#Let's Start with the twitter API\n",
      "##I am ussing a different API, It allows me aprox 400 requests before it times out"
     ]
    },
    {
     "cell_type": "code",
     "collapsed": false,
     "input": [
      "import tweepy\n",
      "\n",
      "API_KEY = ''\n",
      "API_SECRET = ''\n",
      "\n",
      "auth = tweepy.AppAuthHandler(API_KEY, API_SECRET)\n",
      "  \n",
      "api = tweepy.API(auth, wait_on_rate_limit=True,wait_on_rate_limit_notify=True)\n",
      "  \n",
      "if (not api):\n",
      "    print (\"Can't Authenticate\")\n",
      "    sys.exit(-1)"
     ],
     "language": "python",
     "metadata": {},
     "outputs": [],
     "prompt_number": 54
    },
    {
     "cell_type": "markdown",
     "metadata": {},
     "source": [
      "###The security warning is meant if you want to publish the APP, since I am not publishing it I did not worry about it\n",
      "It will appear every time the API is called\n",
      "\n",
      "#to test we can limit how many tweets it searches:"
     ]
    },
    {
     "cell_type": "code",
     "collapsed": false,
     "input": [
      "tweetCountMax = 500\n",
      "print \"it will count: \" + str(tweetCountMax) + \" , The larger the number the longer it takes and the most data (Geo points) posible\""
     ],
     "language": "python",
     "metadata": {},
     "outputs": [
      {
       "output_type": "stream",
       "stream": "stdout",
       "text": [
        "it will count: 500 , The larger the number the longer it takes and the most data (Geo points) posible\n"
       ]
      }
     ],
     "prompt_number": 55
    },
    {
     "cell_type": "markdown",
     "metadata": {},
     "source": [
      "#This is the main search code, it is designated as a function\n",
      "##The Param is a URL link to search.\n",
      "###Some links go by quick other take some time, If the rate limit is reached it will timeout"
     ]
    },
    {
     "cell_type": "code",
     "collapsed": false,
     "input": [
      "twitterDataList = []\n",
      "\n",
      "import sys\n",
      "import jsonpickle\n",
      "import os\n",
      "\n",
      "def twetterSearch(index, txt):\n",
      "    print\n",
      "    searchQuery = txt # this is what we're searching for\n",
      "    maxTweets = 10000000 # Some arbitrary large number\n",
      "    tweetsPerQry = 100  # this is the max the API permits\n",
      "    fName = 'tweets.txt' # We'll store the tweets in a text file.\n",
      " \n",
      "    # If results from a specific ID onwards are reqd, set since_id to that ID.\n",
      "    # else default to no lower limit, go as far back as API allows\n",
      "    sinceId = None\n",
      " \n",
      "    # If results only below a specific ID are, set max_id to that ID.\n",
      "    # else default to no upper limit, start from the most recent tweet matching the search query.\n",
      "    max_id = -1L\n",
      " \n",
      "    tweetCount = 0\n",
      "    print \"Search Index\" + str(index)\n",
      "    print \"URL: \" + txt\n",
      "    print(\"Downloading max {0} tweets\".format(maxTweets))\n",
      "   \n",
      "    while tweetCount < maxTweets:\n",
      "        try:\n",
      "            if (max_id <= 0):\n",
      "                if (not sinceId): new_tweets = api.search(q=searchQuery, count=tweetsPerQry)\n",
      "                else: new_tweets = api.search(q=searchQuery, count=tweetsPerQry,since_id=sinceId)\n",
      "            else:\n",
      "                if (not sinceId): new_tweets = api.search(q=searchQuery, count=tweetsPerQry,max_id=str(max_id - 1))\n",
      "                else: new_tweets = api.search(q=searchQuery, count=tweetsPerQry,max_id=str(max_id - 1),since_id=sinceId)\n",
      "                    \n",
      "            if not new_tweets:\n",
      "                print(\"No more tweets found\")\n",
      "                break\n",
      "            \n",
      "            tweetCount += len(new_tweets)\n",
      "            \n",
      "            print \"tweetCount: \" + str(tweetCount)\n",
      "                          \n",
      "            #List of tweets, Later we can choose to plot the cords of the tweets.\n",
      "            list_J = []\n",
      "            cord_List = [] #used for later plotting the Tweets crods in a map\n",
      "            for tweet in new_tweets:\n",
      "                j = jsonpickle.encode(tweet._json, unpicklable=False) + '\\n'\n",
      "                list_J.append(j)\n",
      "\n",
      "            \n",
      "            for index in range(len(list_J)):\n",
      "                records = [json.loads(line) for line in list_J]\n",
      "                geo = records[index]['coordinates']\n",
      "                if str(geo) != 'None':\n",
      "                    cord_List.append(geo)\n",
      "                print str(index)\n",
      "\n",
      "            data = (tweetCount, searchQuery, cord_List)\n",
      "            twitterDataList.append(data)\n",
      "            \n",
      "            \n",
      "            #print(\"Downloaded {0} tweets\".format(tweetCount))\n",
      "            max_id = new_tweets[-1].id\n",
      "            \n",
      "            #sets A 500 limit \n",
      "            if tweetCount >= tweetCountMax:\n",
      "              break \n",
      "                \n",
      "        except tweepy.TweepError as e:\n",
      "            # Just exit if any error\n",
      "            print(\"some error : \" + str(e))\n",
      "            break\n"
     ],
     "language": "python",
     "metadata": {},
     "outputs": [],
     "prompt_number": 56
    },
    {
     "cell_type": "code",
     "collapsed": false,
     "input": [
      "for index in range(len(dataList)):\n",
      "        #print dataList_hh[index] + \" | \" + dataList_r[index] + \" | \" + dataList_u[index]\n",
      "    data = dataList[index]\n",
      "    \n",
      "    urlToSearch = data[2]\n",
      "    shortURL = data[1]\n",
      "    cord = data[3]\n",
      "    \n",
      "    \n",
      "    twetterSearch(index, urlToSearch)"
     ],
     "language": "python",
     "metadata": {},
     "outputs": [
      {
       "output_type": "stream",
       "stream": "stdout",
       "text": [
        "\n",
        "Search Index0\n",
        "URL: http://studentaid.ed.gov/repay-loans/understand/plans?sf12931183=1\n",
        "Downloading max 10000000 tweets\n",
        "No more tweets found"
       ]
      },
      {
       "output_type": "stream",
       "stream": "stdout",
       "text": [
        "\n",
        "\n",
        "Search Index1\n",
        "URL: http://women.smokefree.gov/11-ways-to-deal-with-stress-without-smoking.aspx?sf12922141=1\n",
        "Downloading max 10000000 tweets\n",
        "No more tweets found"
       ]
      },
      {
       "output_type": "stream",
       "stream": "stdout",
       "text": [
        "\n",
        "\n",
        "Search Index2\n",
        "URL: http://www.michigan.gov/documents/msp/TSS_Field_Update_16_172717_7.pdf\n",
        "Downloading max 10000000 tweets\n",
        "No more tweets found"
       ]
      },
      {
       "output_type": "stream",
       "stream": "stdout",
       "text": [
        "\n",
        "\n",
        "Search Index3\n",
        "URL: http://www.fairfaxcounty.gov/police/news-releases/2013/051513serialburglararrests.htm\n",
        "Downloading max 10000000 tweets\n",
        "No more tweets found"
       ]
      },
      {
       "output_type": "stream",
       "stream": "stdout",
       "text": [
        "\n",
        "\n",
        "Search Index4\n",
        "URL: http://hawaii.gov/dlnr/rain/files/WAI-201202.pdf\n",
        "Downloading max 10000000 tweets\n",
        "No more tweets found"
       ]
      },
      {
       "output_type": "stream",
       "stream": "stdout",
       "text": [
        "\n",
        "\n",
        "Search Index5\n",
        "URL: http://www.nps.gov/yose/planyourvisit/hapy.htm\n",
        "Downloading max 10000000 tweets\n",
        "No more tweets found"
       ]
      },
      {
       "output_type": "stream",
       "stream": "stdout",
       "text": [
        "\n",
        "\n",
        "Search Index6\n",
        "URL: http://www.ed.gov/blog/2013/05/4-things-to-do-during-your-student-loan-grace-period/?sf12780040=1\n",
        "Downloading max 10000000 tweets\n",
        "No more tweets found"
       ]
      },
      {
       "output_type": "stream",
       "stream": "stdout",
       "text": [
        "\n",
        "\n",
        "Search Index7\n",
        "URL: http://doggett.house.gov/index.php/news/571-doggett-challenges-gop-exploitation-of-irs-failure-\n",
        "Downloading max 10000000 tweets\n",
        "tweetCount: 7"
       ]
      },
      {
       "output_type": "stream",
       "stream": "stdout",
       "text": [
        "\n",
        "0\n",
        "1\n",
        "2\n",
        "3\n",
        "4\n",
        "5\n",
        "6\n",
        "No more tweets found"
       ]
      },
      {
       "output_type": "stream",
       "stream": "stdout",
       "text": [
        "\n",
        "\n",
        "Search Index8\n",
        "URL: https://www.dvlottery.state.gov/ESC/\n",
        "Downloading max 10000000 tweets\n",
        "No more tweets found"
       ]
      },
      {
       "output_type": "stream",
       "stream": "stdout",
       "text": [
        "\n",
        "\n",
        "Search Index9\n",
        "URL: http://www.afrc.af.mil/news/story.asp?id=123348943\n",
        "Downloading max 10000000 tweets\n",
        "No more tweets found"
       ]
      },
      {
       "output_type": "stream",
       "stream": "stdout",
       "text": [
        "\n",
        "\n",
        "Search Index10\n",
        "URL: http://www.dol.gov/ebsa/newsroom/tr13-02.html\n",
        "Downloading max 10000000 tweets\n",
        "No more tweets found"
       ]
      },
      {
       "output_type": "stream",
       "stream": "stdout",
       "text": [
        "\n",
        "\n",
        "Search Index11\n",
        "URL: http://www.whitehouse.gov/the-press-office/2013/05/17/presidential-proclamation-world-trade-week-2013\n",
        "Downloading max 10000000 tweets\n",
        "No more tweets found"
       ]
      },
      {
       "output_type": "stream",
       "stream": "stdout",
       "text": [
        "\n",
        "\n",
        "Search Index12\n",
        "URL: http://portal.hud.gov/hudportal/HUD?src=/program_offices/housing/sfh/talk/phoc_case_processing\n",
        "Downloading max 10000000 tweets\n",
        "No more tweets found"
       ]
      },
      {
       "output_type": "stream",
       "stream": "stdout",
       "text": [
        "\n",
        "\n",
        "Search Index13\n",
        "URL: http://www.jpl.nasa.gov/news/news.php?release=2013-167\n",
        "Downloading max 10000000 tweets\n",
        "No more tweets found"
       ]
      },
      {
       "output_type": "stream",
       "stream": "stdout",
       "text": [
        "\n",
        "\n",
        "Search Index14\n",
        "URL: http://www.jpl.nasa.gov/news/news.php?release=2013-165\n",
        "Downloading max 10000000 tweets\n",
        "No more tweets found"
       ]
      },
      {
       "output_type": "stream",
       "stream": "stdout",
       "text": [
        "\n",
        "\n",
        "Search Index15\n",
        "URL: http://www.nsf.gov/news/news_summ.jsp?cntn_id=128018&WT.mc_id=USNSF_195&WT.mc_ev=click\n",
        "Downloading max 10000000 tweets\n",
        "No more tweets found"
       ]
      },
      {
       "output_type": "stream",
       "stream": "stdout",
       "text": [
        "\n",
        "\n",
        "Search Index16\n",
        "URL: http://www.dba.virginia.gov/guide\n",
        "Downloading max 10000000 tweets\n",
        "No more tweets found"
       ]
      },
      {
       "output_type": "stream",
       "stream": "stdout",
       "text": [
        "\n",
        "\n",
        "Search Index17\n",
        "URL: http://inws.wrh.noaa.gov/weather/alertinfo/7519193\n",
        "Downloading max 10000000 tweets\n",
        "No more tweets found"
       ]
      },
      {
       "output_type": "stream",
       "stream": "stdout",
       "text": [
        "\n",
        "\n",
        "Search Index18\n",
        "URL: http://www.ustda.gov/news/pressreleases/2013/SouthAsia/USAsiaPacificComprehensiveEnergyPartnership_051613.asp\n",
        "Downloading max 10000000 tweets\n",
        "No more tweets found"
       ]
      },
      {
       "output_type": "stream",
       "stream": "stdout",
       "text": [
        "\n",
        "\n",
        "Search Index19\n",
        "URL: http://science.nasa.gov/science-news/science-at-nasa/2013/16may_lunarimpact/\n",
        "Downloading max 10000000 tweets\n",
        "tweetCount: 3"
       ]
      },
      {
       "output_type": "stream",
       "stream": "stdout",
       "text": [
        "\n",
        "0\n",
        "1\n",
        "2\n",
        "No more tweets found"
       ]
      },
      {
       "output_type": "stream",
       "stream": "stdout",
       "text": [
        "\n",
        "\n",
        "Search Index20\n",
        "URL: http://www.dodlive.mil/index.php/2013/05/the-2013-warrior-games-a-visual-recap/\n",
        "Downloading max 10000000 tweets\n",
        "tweetCount: 3"
       ]
      },
      {
       "output_type": "stream",
       "stream": "stdout",
       "text": [
        "\n",
        "0\n",
        "1\n",
        "2\n",
        "No more tweets found"
       ]
      },
      {
       "output_type": "stream",
       "stream": "stdout",
       "text": [
        "\n",
        "\n",
        "Search Index21\n",
        "URL: http://www.cruz.senate.gov/record.cfm?id=342801\n",
        "Downloading max 10000000 tweets\n",
        "No more tweets found"
       ]
      },
      {
       "output_type": "stream",
       "stream": "stdout",
       "text": [
        "\n",
        "\n",
        "Search Index22\n",
        "URL: http://holt.house.gov/index.php?option=com_content&view=article&id=1181:dangerous-and-costly&catid=17:newsletters&utm_source=twitterfeed&utm_medium=twitter\n",
        "Downloading max 10000000 tweets\n",
        "No more tweets found"
       ]
      },
      {
       "output_type": "stream",
       "stream": "stdout",
       "text": [
        "\n",
        "\n",
        "Search Index23\n",
        "URL: https://nightsky.jpl.nasa.gov/docs/PQObserverCards.pdf\n",
        "Downloading max 10000000 tweets\n",
        "No more tweets found"
       ]
      },
      {
       "output_type": "stream",
       "stream": "stdout",
       "text": [
        "\n",
        "\n",
        "Search Index24\n",
        "URL: http://www.sec.gov/litigation/admin/2013/34-69601.pdf?utm_source=twitterfeed&utm_medium=twitter\n",
        "Downloading max 10000000 tweets\n",
        "No more tweets found"
       ]
      },
      {
       "output_type": "stream",
       "stream": "stdout",
       "text": [
        "\n",
        "\n",
        "Search Index25\n",
        "URL: http://www.jpl.nasa.gov/news/news.php?release=2013-167\n",
        "Downloading max 10000000 tweets\n",
        "No more tweets found"
       ]
      },
      {
       "output_type": "stream",
       "stream": "stdout",
       "text": [
        "\n",
        "\n",
        "Search Index26\n",
        "URL: http://www.luke.af.mil/news/story.asp?id=123349123&utm_source=twitterfeed&utm_medium=twitter\n",
        "Downloading max 10000000 tweets\n",
        "No more tweets found"
       ]
      },
      {
       "output_type": "stream",
       "stream": "stdout",
       "text": [
        "\n",
        "\n",
        "Search Index27\n",
        "URL: http://www.whitehouse.gov/the-press-office/2013/05/17/presidential-proclamation-world-trade-week-2013\n",
        "Downloading max 10000000 tweets\n",
        "No more tweets found"
       ]
      },
      {
       "output_type": "stream",
       "stream": "stdout",
       "text": [
        "\n",
        "\n",
        "Search Index28\n",
        "URL: http://www.samhsa.gov/children/social_media_mar2013.asp\n",
        "Downloading max 10000000 tweets\n",
        "No more tweets found"
       ]
      },
      {
       "output_type": "stream",
       "stream": "stdout",
       "text": [
        "\n",
        "\n",
        "Search Index29\n",
        "URL: http://www.dodlive.mil/index.php/2013/05/the-2013-warrior-games-a-visual-recap/\n",
        "Downloading max 10000000 tweets\n",
        "tweetCount: 3"
       ]
      },
      {
       "output_type": "stream",
       "stream": "stdout",
       "text": [
        "\n",
        "0\n",
        "1\n",
        "2\n",
        "No more tweets found"
       ]
      },
      {
       "output_type": "stream",
       "stream": "stdout",
       "text": [
        "\n",
        "\n",
        "Search Index30\n",
        "URL: http://pld.dpi.wi.gov/files/pld/images/LinkWI.png\n",
        "Downloading max 10000000 tweets\n",
        "tweetCount: 3"
       ]
      },
      {
       "output_type": "stream",
       "stream": "stdout",
       "text": [
        "\n",
        "0\n",
        "1\n",
        "2\n",
        "No more tweets found"
       ]
      },
      {
       "output_type": "stream",
       "stream": "stdout",
       "text": [
        "\n",
        "\n",
        "Search Index31\n",
        "URL: http://www.jud.ct.gov/external/supapp/Cases/AROcr/CR308/308CR220.pdf\n",
        "Downloading max 10000000 tweets\n",
        "No more tweets found"
       ]
      },
      {
       "output_type": "stream",
       "stream": "stdout",
       "text": [
        "\n",
        "\n",
        "Search Index32\n",
        "URL: http://www4.ftc.gov/bcp/cases/skechers/index.shtm\n",
        "Downloading max 10000000 tweets\n",
        "No more tweets found"
       ]
      },
      {
       "output_type": "stream",
       "stream": "stdout",
       "text": [
        "\n",
        "\n",
        "Search Index33\n",
        "URL: http://www.jpl.nasa.gov/news/news.php?release=2013-165\n",
        "Downloading max 10000000 tweets\n",
        "No more tweets found"
       ]
      },
      {
       "output_type": "stream",
       "stream": "stdout",
       "text": [
        "\n",
        "\n",
        "Search Index34\n",
        "URL: http://www.faa.gov/nextgen/snapshots/slides/?slide=19&cid=TW165\n",
        "Downloading max 10000000 tweets\n",
        "No more tweets found"
       ]
      },
      {
       "output_type": "stream",
       "stream": "stdout",
       "text": [
        "\n",
        "\n",
        "Search Index35\n",
        "URL: http://www.federalreserve.gov/pubs/feds/2010/201041/201041pap.pdf\n",
        "Downloading max 10000000 tweets\n",
        "tweetCount: 3"
       ]
      },
      {
       "output_type": "stream",
       "stream": "stdout",
       "text": [
        "\n",
        "0\n",
        "1\n",
        "2\n",
        "No more tweets found"
       ]
      },
      {
       "output_type": "stream",
       "stream": "stdout",
       "text": [
        "\n",
        "\n",
        "Search Index36\n",
        "URL: http://gspc.georgia.gov/press-releases/2013-05-17/updated-request-proposals-leased-office-space-gwinnett-county-department?utm_source=twitterfeed&utm_medium=twitter\n",
        "Downloading max 10000000 tweets\n",
        "No more tweets found"
       ]
      },
      {
       "output_type": "stream",
       "stream": "stdout",
       "text": [
        "\n",
        "\n",
        "Search Index37\n",
        "URL: http://www.jpl.nasa.gov/news/news.php?release=2013-167\n",
        "Downloading max 10000000 tweets\n",
        "No more tweets found"
       ]
      },
      {
       "output_type": "stream",
       "stream": "stdout",
       "text": [
        "\n",
        "\n",
        "Search Index38\n",
        "URL: https://my.americorps.gov/mp/listing/viewListing.do?id=49581&fromSearch=true\n",
        "Downloading max 10000000 tweets\n",
        "No more tweets found"
       ]
      },
      {
       "output_type": "stream",
       "stream": "stdout",
       "text": [
        "\n",
        "\n",
        "Search Index39\n",
        "URL: http://library.santaclaraca.gov/index.aspx?page=2490\n",
        "Downloading max 10000000 tweets\n",
        "No more tweets found"
       ]
      },
      {
       "output_type": "stream",
       "stream": "stdout",
       "text": [
        "\n",
        "\n",
        "Search Index40\n",
        "URL: https://share.sandia.gov/news/resources/news_releases/brain_supercomputers/?utm_source=buffer&utm_medium=twitter&utm_campaign=Buffer&utm_content=bufferdee2d\n",
        "Downloading max 10000000 tweets\n",
        "No more tweets found"
       ]
      },
      {
       "output_type": "stream",
       "stream": "stdout",
       "text": [
        "\n",
        "\n",
        "Search Index41\n",
        "URL: https://nightsky.jpl.nasa.gov/docs/ObserverCardsRed.pdf\n",
        "Downloading max 10000000 tweets\n",
        "No more tweets found"
       ]
      },
      {
       "output_type": "stream",
       "stream": "stdout",
       "text": [
        "\n",
        "\n",
        "Search Index42\n",
        "URL: http://www.jpl.nasa.gov/news/news.php?release=2013-165\n",
        "Downloading max 10000000 tweets\n",
        "No more tweets found"
       ]
      },
      {
       "output_type": "stream",
       "stream": "stdout",
       "text": [
        "\n",
        "\n",
        "Search Index43\n",
        "URL: http://www.wsdot.wa.gov/ferries/schedule/bulletin.aspx\n",
        "Downloading max 10000000 tweets\n",
        "tweetCount: 100"
       ]
      },
      {
       "output_type": "stream",
       "stream": "stdout",
       "text": [
        "\n",
        "0"
       ]
      },
      {
       "output_type": "stream",
       "stream": "stdout",
       "text": [
        "\n",
        "1\n",
        "2\n",
        "3"
       ]
      },
      {
       "output_type": "stream",
       "stream": "stdout",
       "text": [
        "\n",
        "4\n",
        "5\n",
        "6"
       ]
      },
      {
       "output_type": "stream",
       "stream": "stdout",
       "text": [
        "\n",
        "7\n",
        "8\n",
        "9"
       ]
      },
      {
       "output_type": "stream",
       "stream": "stdout",
       "text": [
        "\n",
        "10\n",
        "11\n",
        "12\n",
        "13"
       ]
      },
      {
       "output_type": "stream",
       "stream": "stdout",
       "text": [
        "\n",
        "14\n",
        "15\n",
        "16\n",
        "17"
       ]
      },
      {
       "output_type": "stream",
       "stream": "stdout",
       "text": [
        "\n",
        "18\n",
        "19\n",
        "20"
       ]
      },
      {
       "output_type": "stream",
       "stream": "stdout",
       "text": [
        "\n",
        "21\n",
        "22\n",
        "23"
       ]
      },
      {
       "output_type": "stream",
       "stream": "stdout",
       "text": [
        "\n",
        "24\n",
        "25\n",
        "26"
       ]
      },
      {
       "output_type": "stream",
       "stream": "stdout",
       "text": [
        "\n",
        "27\n",
        "28\n",
        "29"
       ]
      },
      {
       "output_type": "stream",
       "stream": "stdout",
       "text": [
        "\n",
        "30\n",
        "31\n",
        "32"
       ]
      },
      {
       "output_type": "stream",
       "stream": "stdout",
       "text": [
        "\n",
        "33\n",
        "34\n",
        "35"
       ]
      },
      {
       "output_type": "stream",
       "stream": "stdout",
       "text": [
        "\n",
        "36\n",
        "37\n",
        "38"
       ]
      },
      {
       "output_type": "stream",
       "stream": "stdout",
       "text": [
        "\n",
        "39\n",
        "40\n",
        "41"
       ]
      },
      {
       "output_type": "stream",
       "stream": "stdout",
       "text": [
        "\n",
        "42\n",
        "43\n",
        "44"
       ]
      },
      {
       "output_type": "stream",
       "stream": "stdout",
       "text": [
        "\n",
        "45\n",
        "46\n",
        "47"
       ]
      },
      {
       "output_type": "stream",
       "stream": "stdout",
       "text": [
        "\n",
        "48\n",
        "49\n",
        "50\n",
        "51"
       ]
      },
      {
       "output_type": "stream",
       "stream": "stdout",
       "text": [
        "\n",
        "52\n",
        "53\n",
        "54\n",
        "55"
       ]
      },
      {
       "output_type": "stream",
       "stream": "stdout",
       "text": [
        "\n",
        "56\n",
        "57\n",
        "58\n",
        "59"
       ]
      },
      {
       "output_type": "stream",
       "stream": "stdout",
       "text": [
        "\n",
        "60\n",
        "61\n",
        "62\n",
        "63"
       ]
      },
      {
       "output_type": "stream",
       "stream": "stdout",
       "text": [
        "\n",
        "64"
       ]
      },
      {
       "output_type": "stream",
       "stream": "stdout",
       "text": [
        "\n",
        "65\n",
        "66\n",
        "67\n",
        "68"
       ]
      },
      {
       "output_type": "stream",
       "stream": "stdout",
       "text": [
        "\n",
        "69\n",
        "70\n",
        "71\n",
        "72"
       ]
      },
      {
       "output_type": "stream",
       "stream": "stdout",
       "text": [
        "\n",
        "73\n",
        "74\n",
        "75"
       ]
      },
      {
       "output_type": "stream",
       "stream": "stdout",
       "text": [
        "\n",
        "76\n",
        "77\n",
        "78"
       ]
      },
      {
       "output_type": "stream",
       "stream": "stdout",
       "text": [
        "\n",
        "79\n",
        "80\n",
        "81"
       ]
      },
      {
       "output_type": "stream",
       "stream": "stdout",
       "text": [
        "\n",
        "82\n",
        "83\n",
        "84"
       ]
      },
      {
       "output_type": "stream",
       "stream": "stdout",
       "text": [
        "\n",
        "85\n",
        "86\n",
        "87"
       ]
      },
      {
       "output_type": "stream",
       "stream": "stdout",
       "text": [
        "\n",
        "88\n",
        "89\n",
        "90"
       ]
      },
      {
       "output_type": "stream",
       "stream": "stdout",
       "text": [
        "\n",
        "91\n",
        "92\n",
        "93"
       ]
      },
      {
       "output_type": "stream",
       "stream": "stdout",
       "text": [
        "\n",
        "94\n",
        "95\n",
        "96"
       ]
      },
      {
       "output_type": "stream",
       "stream": "stdout",
       "text": [
        "\n",
        "97\n",
        "98\n",
        "99"
       ]
      },
      {
       "output_type": "stream",
       "stream": "stdout",
       "text": [
        "\n",
        "tweetCount: 126"
       ]
      },
      {
       "output_type": "stream",
       "stream": "stdout",
       "text": [
        "\n",
        "0"
       ]
      },
      {
       "output_type": "stream",
       "stream": "stdout",
       "text": [
        "\n",
        "1\n",
        "2\n",
        "3\n",
        "4\n",
        "5\n",
        "6\n",
        "7\n",
        "8\n",
        "9\n",
        "10"
       ]
      },
      {
       "output_type": "stream",
       "stream": "stdout",
       "text": [
        "\n",
        "11\n",
        "12\n",
        "13\n",
        "14\n",
        "15\n",
        "16\n",
        "17\n",
        "18\n",
        "19\n",
        "20\n",
        "21\n",
        "22"
       ]
      },
      {
       "output_type": "stream",
       "stream": "stdout",
       "text": [
        "\n",
        "23\n",
        "24\n",
        "25\n",
        "No more tweets found"
       ]
      },
      {
       "output_type": "stream",
       "stream": "stdout",
       "text": [
        "\n",
        "\n",
        "Search Index44\n",
        "URL: http://pld.dpi.wi.gov/files/pld/images/LinkWI.png\n",
        "Downloading max 10000000 tweets\n",
        "tweetCount: 3"
       ]
      },
      {
       "output_type": "stream",
       "stream": "stdout",
       "text": [
        "\n",
        "0\n",
        "1\n",
        "2\n",
        "No more tweets found"
       ]
      },
      {
       "output_type": "stream",
       "stream": "stdout",
       "text": [
        "\n",
        "\n",
        "Search Index45\n",
        "URL: http://www.jpl.nasa.gov/news/news.php?release=2013-167\n",
        "Downloading max 10000000 tweets\n",
        "No more tweets found"
       ]
      },
      {
       "output_type": "stream",
       "stream": "stdout",
       "text": [
        "\n",
        "\n",
        "Search Index46\n",
        "URL: http://library.santaclaraca.gov/index.aspx?page=2490\n",
        "Downloading max 10000000 tweets\n",
        "No more tweets found"
       ]
      },
      {
       "output_type": "stream",
       "stream": "stdout",
       "text": [
        "\n",
        "\n",
        "Search Index47\n",
        "URL: http://www.hud.gov/offices/adm/hudclips/letters/mortgagee/\n",
        "Downloading max 10000000 tweets\n",
        "No more tweets found"
       ]
      },
      {
       "output_type": "stream",
       "stream": "stdout",
       "text": [
        "\n",
        "\n",
        "Search Index48\n",
        "URL: http://effectivehealthcare.ahrq.gov/index.cfm/search-for-guides-reviews-and-reports/?productid=1030&pageaction=displayproduct\n",
        "Downloading max 10000000 tweets\n",
        "No more tweets found"
       ]
      },
      {
       "output_type": "stream",
       "stream": "stdout",
       "text": [
        "\n",
        "\n",
        "Search Index49\n",
        "URL: http://www.consumerfinance.gov/jobs/detail/regulatory-implementation-program-consultant/\n",
        "Downloading max 10000000 tweets\n",
        "No more tweets found"
       ]
      },
      {
       "output_type": "stream",
       "stream": "stdout",
       "text": [
        "\n",
        "\n",
        "Search Index50\n",
        "URL: http://www.dcr.virginia.gov/state_parks/events-list.shtml?srchloc=All Parks&eventtype=Special Event&txtBDate=05/18/2013&txtEDate=05/18/2013&curdate=04/26/2013\n",
        "Downloading max 10000000 tweets\n",
        "No more tweets found"
       ]
      },
      {
       "output_type": "stream",
       "stream": "stdout",
       "text": [
        "\n",
        "\n",
        "Search Index51\n",
        "URL: http://www.jpl.nasa.gov/news/news.php?release=2013-167\n",
        "Downloading max 10000000 tweets\n",
        "No more tweets found"
       ]
      },
      {
       "output_type": "stream",
       "stream": "stdout",
       "text": [
        "\n",
        "\n",
        "Search Index52\n",
        "URL: http://www.sec.gov/Archives/edgar/data/1557156/000119312513163090/d429949dn1aa.htm\n",
        "Downloading max 10000000 tweets\n",
        "No more tweets found"
       ]
      },
      {
       "output_type": "stream",
       "stream": "stdout",
       "text": [
        "\n",
        "\n",
        "Search Index53\n",
        "URL: http://ros-lehtinen.house.gov/photo-galleries\n",
        "Downloading max 10000000 tweets\n",
        "No more tweets found"
       ]
      },
      {
       "output_type": "stream",
       "stream": "stdout",
       "text": [
        "\n",
        "\n",
        "Search Index54\n",
        "URL: http://blogs.loc.gov/picturethis/2013/05/taking-the-long-view-in-miniature-part-two/?utm_source=feedly\n",
        "Downloading max 10000000 tweets\n",
        "No more tweets found"
       ]
      },
      {
       "output_type": "stream",
       "stream": "stdout",
       "text": [
        "\n",
        "\n",
        "Search Index55\n",
        "URL: http://www.jpl.nasa.gov/news/news.php?release=2013-165\n",
        "Downloading max 10000000 tweets\n",
        "No more tweets found"
       ]
      },
      {
       "output_type": "stream",
       "stream": "stdout",
       "text": [
        "\n",
        "\n",
        "Search Index56\n",
        "URL: http://library.utah.gov/surveys/index.php?sid=82976&lang=en\n",
        "Downloading max 10000000 tweets\n",
        "No more tweets found"
       ]
      },
      {
       "output_type": "stream",
       "stream": "stdout",
       "text": [
        "\n",
        "\n",
        "Search Index57\n",
        "URL: http://hawaii.gov/dlnr/rain/files/WAI-201202.pdf\n",
        "Downloading max 10000000 tweets\n",
        "No more tweets found"
       ]
      },
      {
       "output_type": "stream",
       "stream": "stdout",
       "text": [
        "\n",
        "\n",
        "Search Index58\n",
        "URL: http://www.jpl.nasa.gov/news/news.php?release=2013-165\n",
        "Downloading max 10000000 tweets\n",
        "No more tweets found"
       ]
      },
      {
       "output_type": "stream",
       "stream": "stdout",
       "text": [
        "\n",
        "\n",
        "Search Index59\n",
        "URL: http://www.jpl.nasa.gov/news/news.php?release=2013-167\n",
        "Downloading max 10000000 tweets\n",
        "No more tweets found"
       ]
      },
      {
       "output_type": "stream",
       "stream": "stdout",
       "text": [
        "\n",
        "\n",
        "Search Index60\n",
        "URL: http://www.jpl.nasa.gov/news/news.php?release=2013-165\n",
        "Downloading max 10000000 tweets\n",
        "No more tweets found"
       ]
      },
      {
       "output_type": "stream",
       "stream": "stdout",
       "text": [
        "\n",
        "\n",
        "Search Index61\n",
        "URL: http://www.loc.gov/today/pr/2013/13-097.html?utm_source=twitterfeed&utm_medium=twitter\n",
        "Downloading max 10000000 tweets\n",
        "No more tweets found"
       ]
      },
      {
       "output_type": "stream",
       "stream": "stdout",
       "text": [
        "\n",
        "\n",
        "Search Index62\n",
        "URL: http://ros-lehtinen.house.gov/photo-galleries\n",
        "Downloading max 10000000 tweets\n",
        "No more tweets found"
       ]
      },
      {
       "output_type": "stream",
       "stream": "stdout",
       "text": [
        "\n",
        "\n",
        "Search Index63\n",
        "URL: http://www.fs.usda.gov/detail/mountsthelens/conditions/?cid=STELPRDB5291050\n",
        "Downloading max 10000000 tweets\n",
        "No more tweets found"
       ]
      },
      {
       "output_type": "stream",
       "stream": "stdout",
       "text": [
        "\n",
        "\n",
        "Search Index64\n",
        "URL: http://www.murkowski.senate.gov/public/index.cfm?p=PressReleases&ContentRecord_id=9efc8691-52f2-496e-829e-08196d119e68\n",
        "Downloading max 10000000 tweets\n",
        "No more tweets found"
       ]
      },
      {
       "output_type": "stream",
       "stream": "stdout",
       "text": [
        "\n",
        "\n",
        "Search Index65\n",
        "URL: https://www.dvlottery.state.gov/ESC/\n",
        "Downloading max 10000000 tweets\n",
        "No more tweets found"
       ]
      },
      {
       "output_type": "stream",
       "stream": "stdout",
       "text": [
        "\n",
        "\n",
        "Search Index66\n",
        "URL: http://www.whitehouse.gov/the-press-office/2013/05/17/presidential-memorandum-modernizing-federal-infrastructure-review-and-pe\n",
        "Downloading max 10000000 tweets\n",
        "No more tweets found"
       ]
      },
      {
       "output_type": "stream",
       "stream": "stdout",
       "text": [
        "\n",
        "\n",
        "Search Index67\n",
        "URL: http://tn.gov/education/Library/KHquality_teachers.pdf\n",
        "Downloading max 10000000 tweets\n",
        "No more tweets found"
       ]
      },
      {
       "output_type": "stream",
       "stream": "stdout",
       "text": [
        "\n",
        "\n",
        "Search Index68\n",
        "URL: http://library.santaclaraca.gov/index.aspx?page=2490\n",
        "Downloading max 10000000 tweets\n",
        "No more tweets found"
       ]
      },
      {
       "output_type": "stream",
       "stream": "stdout",
       "text": [
        "\n",
        "\n",
        "Search Index69\n",
        "URL: http://www.jpl.nasa.gov/news/news.php?release=2013-167\n",
        "Downloading max 10000000 tweets\n",
        "No more tweets found"
       ]
      },
      {
       "output_type": "stream",
       "stream": "stdout",
       "text": [
        "\n",
        "\n",
        "Search Index70\n",
        "URL: http://www.dnr.wa.gov/AboutDNR/Employment/Pages/Home.aspx\n",
        "Downloading max 10000000 tweets\n",
        "tweetCount: 100"
       ]
      },
      {
       "output_type": "stream",
       "stream": "stdout",
       "text": [
        "\n",
        "0"
       ]
      },
      {
       "output_type": "stream",
       "stream": "stdout",
       "text": [
        "\n",
        "1\n",
        "2"
       ]
      },
      {
       "output_type": "stream",
       "stream": "stdout",
       "text": [
        "\n",
        "3\n",
        "4"
       ]
      },
      {
       "output_type": "stream",
       "stream": "stdout",
       "text": [
        "\n",
        "5\n",
        "6\n",
        "7"
       ]
      },
      {
       "output_type": "stream",
       "stream": "stdout",
       "text": [
        "\n",
        "8\n",
        "9\n",
        "10"
       ]
      },
      {
       "output_type": "stream",
       "stream": "stdout",
       "text": [
        "\n",
        "11\n",
        "12\n",
        "13"
       ]
      },
      {
       "output_type": "stream",
       "stream": "stdout",
       "text": [
        "\n",
        "14\n",
        "15\n",
        "16"
       ]
      },
      {
       "output_type": "stream",
       "stream": "stdout",
       "text": [
        "\n",
        "17\n",
        "18\n",
        "19"
       ]
      },
      {
       "output_type": "stream",
       "stream": "stdout",
       "text": [
        "\n",
        "20\n",
        "21\n",
        "22"
       ]
      },
      {
       "output_type": "stream",
       "stream": "stdout",
       "text": [
        "\n",
        "23\n",
        "24\n",
        "25"
       ]
      },
      {
       "output_type": "stream",
       "stream": "stdout",
       "text": [
        "\n",
        "26\n",
        "27\n",
        "28"
       ]
      },
      {
       "output_type": "stream",
       "stream": "stdout",
       "text": [
        "\n",
        "29"
       ]
      },
      {
       "output_type": "stream",
       "stream": "stdout",
       "text": [
        "\n",
        "30\n",
        "31\n",
        "32"
       ]
      },
      {
       "output_type": "stream",
       "stream": "stdout",
       "text": [
        "\n",
        "33\n",
        "34\n",
        "35"
       ]
      },
      {
       "output_type": "stream",
       "stream": "stdout",
       "text": [
        "\n",
        "36\n",
        "37\n",
        "38"
       ]
      },
      {
       "output_type": "stream",
       "stream": "stdout",
       "text": [
        "\n",
        "39\n",
        "40"
       ]
      },
      {
       "output_type": "stream",
       "stream": "stdout",
       "text": [
        "\n",
        "41\n",
        "42"
       ]
      },
      {
       "output_type": "stream",
       "stream": "stdout",
       "text": [
        "\n",
        "43\n",
        "44"
       ]
      },
      {
       "output_type": "stream",
       "stream": "stdout",
       "text": [
        "\n",
        "45\n",
        "46"
       ]
      },
      {
       "output_type": "stream",
       "stream": "stdout",
       "text": [
        "\n",
        "47\n",
        "48\n",
        "49"
       ]
      },
      {
       "output_type": "stream",
       "stream": "stdout",
       "text": [
        "\n",
        "50\n",
        "51\n",
        "52"
       ]
      },
      {
       "output_type": "stream",
       "stream": "stdout",
       "text": [
        "\n",
        "53\n",
        "54\n",
        "55"
       ]
      },
      {
       "output_type": "stream",
       "stream": "stdout",
       "text": [
        "\n",
        "56\n",
        "57\n",
        "58"
       ]
      },
      {
       "output_type": "stream",
       "stream": "stdout",
       "text": [
        "\n",
        "59\n",
        "60"
       ]
      },
      {
       "output_type": "stream",
       "stream": "stdout",
       "text": [
        "\n",
        "61\n",
        "62"
       ]
      },
      {
       "output_type": "stream",
       "stream": "stdout",
       "text": [
        "\n",
        "63\n",
        "64\n",
        "65"
       ]
      },
      {
       "output_type": "stream",
       "stream": "stdout",
       "text": [
        "\n",
        "66\n",
        "67\n",
        "68"
       ]
      },
      {
       "output_type": "stream",
       "stream": "stdout",
       "text": [
        "\n",
        "69\n",
        "70\n",
        "71"
       ]
      },
      {
       "output_type": "stream",
       "stream": "stdout",
       "text": [
        "\n",
        "72\n",
        "73\n",
        "74"
       ]
      },
      {
       "output_type": "stream",
       "stream": "stdout",
       "text": [
        "\n",
        "75\n",
        "76"
       ]
      },
      {
       "output_type": "stream",
       "stream": "stdout",
       "text": [
        "\n",
        "77\n",
        "78"
       ]
      },
      {
       "output_type": "stream",
       "stream": "stdout",
       "text": [
        "\n",
        "79\n",
        "80"
       ]
      },
      {
       "output_type": "stream",
       "stream": "stdout",
       "text": [
        "\n",
        "81\n",
        "82"
       ]
      },
      {
       "output_type": "stream",
       "stream": "stdout",
       "text": [
        "\n",
        "83\n",
        "84"
       ]
      },
      {
       "output_type": "stream",
       "stream": "stdout",
       "text": [
        "\n",
        "85\n",
        "86"
       ]
      },
      {
       "output_type": "stream",
       "stream": "stdout",
       "text": [
        "\n",
        "87\n",
        "88"
       ]
      },
      {
       "output_type": "stream",
       "stream": "stdout",
       "text": [
        "\n",
        "89\n",
        "90"
       ]
      },
      {
       "output_type": "stream",
       "stream": "stdout",
       "text": [
        "\n",
        "91\n",
        "92"
       ]
      },
      {
       "output_type": "stream",
       "stream": "stdout",
       "text": [
        "\n",
        "93\n",
        "94\n",
        "95"
       ]
      },
      {
       "output_type": "stream",
       "stream": "stdout",
       "text": [
        "\n",
        "96\n",
        "97\n",
        "98"
       ]
      },
      {
       "output_type": "stream",
       "stream": "stdout",
       "text": [
        "\n",
        "99\n",
        "tweetCount: 118"
       ]
      },
      {
       "output_type": "stream",
       "stream": "stdout",
       "text": [
        "\n",
        "0"
       ]
      },
      {
       "output_type": "stream",
       "stream": "stdout",
       "text": [
        "\n",
        "1\n",
        "2\n",
        "3\n",
        "4\n",
        "5\n",
        "6\n",
        "7\n",
        "8\n",
        "9\n",
        "10\n",
        "11\n",
        "12\n",
        "13"
       ]
      },
      {
       "output_type": "stream",
       "stream": "stdout",
       "text": [
        "\n",
        "14\n",
        "15\n",
        "16\n",
        "17\n",
        "No more tweets found"
       ]
      },
      {
       "output_type": "stream",
       "stream": "stdout",
       "text": [
        "\n",
        "\n",
        "Search Index71\n",
        "URL: http://library.utah.gov/surveys/index.php?sid=82976&lang=en\n",
        "Downloading max 10000000 tweets\n",
        "No more tweets found"
       ]
      },
      {
       "output_type": "stream",
       "stream": "stdout",
       "text": [
        "\n",
        "\n",
        "Search Index72\n",
        "URL: http://www.nasa.gov/mission_pages/mer/news/mer20130517.html\n",
        "Downloading max 10000000 tweets\n",
        "tweetCount: 2"
       ]
      },
      {
       "output_type": "stream",
       "stream": "stdout",
       "text": [
        "\n",
        "0\n",
        "1\n",
        "No more tweets found"
       ]
      },
      {
       "output_type": "stream",
       "stream": "stdout",
       "text": [
        "\n",
        "\n",
        "Search Index73\n",
        "URL: http://www4.ftc.gov/bcp/cases/skechers/index.shtm\n",
        "Downloading max 10000000 tweets\n",
        "No more tweets found"
       ]
      },
      {
       "output_type": "stream",
       "stream": "stdout",
       "text": [
        "\n",
        "\n",
        "Search Index74\n",
        "URL: http://www.jpl.nasa.gov/news/news.php?release=2013-165\n",
        "Downloading max 10000000 tweets\n",
        "No more tweets found"
       ]
      },
      {
       "output_type": "stream",
       "stream": "stdout",
       "text": [
        "\n",
        "\n",
        "Search Index75\n",
        "URL: http://www.ca6.uscourts.gov/opinions.pdf/13a0141p-06.pdf\n",
        "Downloading max 10000000 tweets\n",
        "No more tweets found"
       ]
      },
      {
       "output_type": "stream",
       "stream": "stdout",
       "text": [
        "\n",
        "\n",
        "Search Index76\n",
        "URL: http://www.nasa.gov/mission_pages/sunearth/news/News051713-cme.html\n",
        "Downloading max 10000000 tweets\n",
        "No more tweets found"
       ]
      },
      {
       "output_type": "stream",
       "stream": "stdout",
       "text": [
        "\n",
        "\n",
        "Search Index77\n",
        "URL: http://science.nasa.gov/science-news/science-at-nasa/2013/16may_lunarimpact/\n",
        "Downloading max 10000000 tweets\n",
        "tweetCount: 3"
       ]
      },
      {
       "output_type": "stream",
       "stream": "stdout",
       "text": [
        "\n",
        "0\n",
        "1\n",
        "2\n",
        "No more tweets found"
       ]
      },
      {
       "output_type": "stream",
       "stream": "stdout",
       "text": [
        "\n",
        "\n",
        "Search Index78\n",
        "URL: http://www.irsvideos.gov/StartingOffRight501c3/bios/Paz.html\n",
        "Downloading max 10000000 tweets\n",
        "No more tweets found"
       ]
      },
      {
       "output_type": "stream",
       "stream": "stdout",
       "text": [
        "\n",
        "\n",
        "Search Index79\n",
        "URL: http://www.dodlive.mil/index.php/2013/05/the-2013-warrior-games-a-visual-recap/\n",
        "Downloading max 10000000 tweets\n",
        "tweetCount: 3"
       ]
      },
      {
       "output_type": "stream",
       "stream": "stdout",
       "text": [
        "\n",
        "0\n",
        "1\n",
        "2\n",
        "No more tweets found"
       ]
      },
      {
       "output_type": "stream",
       "stream": "stdout",
       "text": [
        "\n",
        "\n",
        "Search Index80\n",
        "URL: http://www.fda.gov/Drugs/ResourcesForYou/Consumers/BuyingUsingMedicineSafely/BuyingMedicinesOvertheInternet/BeSafeRxKnowYourOnlinePharmacy/ucm318487.htm\n",
        "Downloading max 10000000 tweets\n",
        "No more tweets found"
       ]
      },
      {
       "output_type": "stream",
       "stream": "stdout",
       "text": [
        "\n",
        "\n",
        "Search Index81\n",
        "URL: http://science.nasa.gov/science-news/science-at-nasa/2013/16may_lunarimpact/\n",
        "Downloading max 10000000 tweets\n",
        "tweetCount: 3"
       ]
      },
      {
       "output_type": "stream",
       "stream": "stdout",
       "text": [
        "\n",
        "0\n",
        "1\n",
        "2\n",
        "No more tweets found"
       ]
      },
      {
       "output_type": "stream",
       "stream": "stdout",
       "text": [
        "\n",
        "\n",
        "Search Index82\n",
        "URL: http://pld.dpi.wi.gov/files/pld/images/LinkWI.png\n",
        "Downloading max 10000000 tweets\n",
        "tweetCount: 3"
       ]
      },
      {
       "output_type": "stream",
       "stream": "stdout",
       "text": [
        "\n",
        "0\n",
        "1\n",
        "2\n",
        "No more tweets found"
       ]
      },
      {
       "output_type": "stream",
       "stream": "stdout",
       "text": [
        "\n",
        "\n",
        "Search Index83\n",
        "URL: http://www.nps.gov/findapark/index.htm\n",
        "Downloading max 10000000 tweets\n",
        "No more tweets found"
       ]
      },
      {
       "output_type": "stream",
       "stream": "stdout",
       "text": [
        "\n",
        "\n",
        "Search Index84\n",
        "URL: http://water.nv.gov/mapping/chronologies/humboldt/hrc-pt2.pdf\n",
        "Downloading max 10000000 tweets\n",
        "No more tweets found"
       ]
      },
      {
       "output_type": "stream",
       "stream": "stdout",
       "text": [
        "\n",
        "\n",
        "Search Index85\n",
        "URL: http://publichealth.lacounty.gov/phcommon/public/media/mediapubdetail.cfm?unit=media&ou=ph&prog=media&resultyear=2007&prid=1066&row=25&start=1\n",
        "Downloading max 10000000 tweets\n",
        "No more tweets found"
       ]
      },
      {
       "output_type": "stream",
       "stream": "stdout",
       "text": [
        "\n",
        "\n",
        "Search Index86\n",
        "URL: http://www.nasa.gov/multimedia/nasatv/index.html\n",
        "Downloading max 10000000 tweets\n",
        "tweetCount: 100"
       ]
      },
      {
       "output_type": "stream",
       "stream": "stdout",
       "text": [
        "\n",
        "0"
       ]
      },
      {
       "output_type": "stream",
       "stream": "stdout",
       "text": [
        "\n",
        "1\n",
        "2"
       ]
      },
      {
       "output_type": "stream",
       "stream": "stdout",
       "text": [
        "\n",
        "3\n",
        "4"
       ]
      },
      {
       "output_type": "stream",
       "stream": "stdout",
       "text": [
        "\n",
        "5\n",
        "6"
       ]
      },
      {
       "output_type": "stream",
       "stream": "stdout",
       "text": [
        "\n",
        "7"
       ]
      },
      {
       "output_type": "stream",
       "stream": "stdout",
       "text": [
        "\n",
        "8\n",
        "9"
       ]
      },
      {
       "output_type": "stream",
       "stream": "stdout",
       "text": [
        "\n",
        "10\n",
        "11"
       ]
      },
      {
       "output_type": "stream",
       "stream": "stdout",
       "text": [
        "\n",
        "12\n",
        "13"
       ]
      },
      {
       "output_type": "stream",
       "stream": "stdout",
       "text": [
        "\n",
        "14\n",
        "15"
       ]
      },
      {
       "output_type": "stream",
       "stream": "stdout",
       "text": [
        "\n",
        "16\n",
        "17"
       ]
      },
      {
       "output_type": "stream",
       "stream": "stdout",
       "text": [
        "\n",
        "18\n",
        "19"
       ]
      },
      {
       "output_type": "stream",
       "stream": "stdout",
       "text": [
        "\n",
        "20\n",
        "21"
       ]
      },
      {
       "output_type": "stream",
       "stream": "stdout",
       "text": [
        "\n",
        "22\n",
        "23"
       ]
      },
      {
       "output_type": "stream",
       "stream": "stdout",
       "text": [
        "\n",
        "24"
       ]
      },
      {
       "output_type": "stream",
       "stream": "stdout",
       "text": [
        "\n",
        "25\n",
        "26"
       ]
      },
      {
       "output_type": "stream",
       "stream": "stdout",
       "text": [
        "\n",
        "27\n",
        "28"
       ]
      },
      {
       "output_type": "stream",
       "stream": "stdout",
       "text": [
        "\n",
        "29\n",
        "30"
       ]
      },
      {
       "output_type": "stream",
       "stream": "stdout",
       "text": [
        "\n",
        "31\n",
        "32"
       ]
      },
      {
       "output_type": "stream",
       "stream": "stdout",
       "text": [
        "\n",
        "33\n",
        "34"
       ]
      },
      {
       "output_type": "stream",
       "stream": "stdout",
       "text": [
        "\n",
        "35\n",
        "36"
       ]
      },
      {
       "output_type": "stream",
       "stream": "stdout",
       "text": [
        "\n",
        "37\n",
        "38"
       ]
      },
      {
       "output_type": "stream",
       "stream": "stdout",
       "text": [
        "\n",
        "39\n",
        "40"
       ]
      },
      {
       "output_type": "stream",
       "stream": "stdout",
       "text": [
        "\n",
        "41\n",
        "42"
       ]
      },
      {
       "output_type": "stream",
       "stream": "stdout",
       "text": [
        "\n",
        "43\n",
        "44"
       ]
      },
      {
       "output_type": "stream",
       "stream": "stdout",
       "text": [
        "\n",
        "45\n",
        "46"
       ]
      },
      {
       "output_type": "stream",
       "stream": "stdout",
       "text": [
        "\n",
        "47\n",
        "48"
       ]
      },
      {
       "output_type": "stream",
       "stream": "stdout",
       "text": [
        "\n",
        "49"
       ]
      },
      {
       "output_type": "stream",
       "stream": "stdout",
       "text": [
        "\n",
        "50\n",
        "51"
       ]
      },
      {
       "output_type": "stream",
       "stream": "stdout",
       "text": [
        "\n",
        "52\n",
        "53"
       ]
      },
      {
       "output_type": "stream",
       "stream": "stdout",
       "text": [
        "\n",
        "54\n",
        "55"
       ]
      },
      {
       "output_type": "stream",
       "stream": "stdout",
       "text": [
        "\n",
        "56\n",
        "57"
       ]
      },
      {
       "output_type": "stream",
       "stream": "stdout",
       "text": [
        "\n",
        "58\n",
        "59"
       ]
      },
      {
       "output_type": "stream",
       "stream": "stdout",
       "text": [
        "\n",
        "60\n",
        "61"
       ]
      },
      {
       "output_type": "stream",
       "stream": "stdout",
       "text": [
        "\n",
        "62\n",
        "63"
       ]
      },
      {
       "output_type": "stream",
       "stream": "stdout",
       "text": [
        "\n",
        "64\n",
        "65"
       ]
      },
      {
       "output_type": "stream",
       "stream": "stdout",
       "text": [
        "\n",
        "66\n",
        "67"
       ]
      },
      {
       "output_type": "stream",
       "stream": "stdout",
       "text": [
        "\n",
        "68\n",
        "69"
       ]
      },
      {
       "output_type": "stream",
       "stream": "stdout",
       "text": [
        "\n",
        "70\n",
        "71"
       ]
      },
      {
       "output_type": "stream",
       "stream": "stdout",
       "text": [
        "\n",
        "72\n",
        "73"
       ]
      },
      {
       "output_type": "stream",
       "stream": "stdout",
       "text": [
        "\n",
        "74"
       ]
      },
      {
       "output_type": "stream",
       "stream": "stdout",
       "text": [
        "\n",
        "75\n",
        "76"
       ]
      },
      {
       "output_type": "stream",
       "stream": "stdout",
       "text": [
        "\n",
        "77\n",
        "78"
       ]
      },
      {
       "output_type": "stream",
       "stream": "stdout",
       "text": [
        "\n",
        "79\n",
        "80"
       ]
      },
      {
       "output_type": "stream",
       "stream": "stdout",
       "text": [
        "\n",
        "81\n",
        "82"
       ]
      },
      {
       "output_type": "stream",
       "stream": "stdout",
       "text": [
        "\n",
        "83\n",
        "84"
       ]
      },
      {
       "output_type": "stream",
       "stream": "stdout",
       "text": [
        "\n",
        "85\n",
        "86"
       ]
      },
      {
       "output_type": "stream",
       "stream": "stdout",
       "text": [
        "\n",
        "87\n",
        "88"
       ]
      },
      {
       "output_type": "stream",
       "stream": "stdout",
       "text": [
        "\n",
        "89\n",
        "90"
       ]
      },
      {
       "output_type": "stream",
       "stream": "stdout",
       "text": [
        "\n",
        "91\n",
        "92"
       ]
      },
      {
       "output_type": "stream",
       "stream": "stdout",
       "text": [
        "\n",
        "93\n",
        "94"
       ]
      },
      {
       "output_type": "stream",
       "stream": "stdout",
       "text": [
        "\n",
        "95\n",
        "96"
       ]
      },
      {
       "output_type": "stream",
       "stream": "stdout",
       "text": [
        "\n",
        "97\n",
        "98"
       ]
      },
      {
       "output_type": "stream",
       "stream": "stdout",
       "text": [
        "\n",
        "99\n",
        "tweetCount: 200"
       ]
      },
      {
       "output_type": "stream",
       "stream": "stdout",
       "text": [
        "\n",
        "0"
       ]
      },
      {
       "output_type": "stream",
       "stream": "stdout",
       "text": [
        "\n",
        "1\n",
        "2"
       ]
      },
      {
       "output_type": "stream",
       "stream": "stdout",
       "text": [
        "\n",
        "3\n",
        "4"
       ]
      },
      {
       "output_type": "stream",
       "stream": "stdout",
       "text": [
        "\n",
        "5"
       ]
      },
      {
       "output_type": "stream",
       "stream": "stdout",
       "text": [
        "\n",
        "6\n",
        "7"
       ]
      },
      {
       "output_type": "stream",
       "stream": "stdout",
       "text": [
        "\n",
        "8\n",
        "9"
       ]
      },
      {
       "output_type": "stream",
       "stream": "stdout",
       "text": [
        "\n",
        "10\n",
        "11"
       ]
      },
      {
       "output_type": "stream",
       "stream": "stdout",
       "text": [
        "\n",
        "12\n",
        "13"
       ]
      },
      {
       "output_type": "stream",
       "stream": "stdout",
       "text": [
        "\n",
        "14\n",
        "15"
       ]
      },
      {
       "output_type": "stream",
       "stream": "stdout",
       "text": [
        "\n",
        "16\n",
        "17"
       ]
      },
      {
       "output_type": "stream",
       "stream": "stdout",
       "text": [
        "\n",
        "18\n",
        "19"
       ]
      },
      {
       "output_type": "stream",
       "stream": "stdout",
       "text": [
        "\n",
        "20\n",
        "21"
       ]
      },
      {
       "output_type": "stream",
       "stream": "stdout",
       "text": [
        "\n",
        "22"
       ]
      },
      {
       "output_type": "stream",
       "stream": "stdout",
       "text": [
        "\n",
        "23\n",
        "24"
       ]
      },
      {
       "output_type": "stream",
       "stream": "stdout",
       "text": [
        "\n",
        "25\n",
        "26"
       ]
      },
      {
       "output_type": "stream",
       "stream": "stdout",
       "text": [
        "\n",
        "27\n",
        "28"
       ]
      },
      {
       "output_type": "stream",
       "stream": "stdout",
       "text": [
        "\n",
        "29\n",
        "30"
       ]
      },
      {
       "output_type": "stream",
       "stream": "stdout",
       "text": [
        "\n",
        "31\n",
        "32"
       ]
      },
      {
       "output_type": "stream",
       "stream": "stdout",
       "text": [
        "\n",
        "33\n",
        "34"
       ]
      },
      {
       "output_type": "stream",
       "stream": "stdout",
       "text": [
        "\n",
        "35\n",
        "36"
       ]
      },
      {
       "output_type": "stream",
       "stream": "stdout",
       "text": [
        "\n",
        "37\n",
        "38"
       ]
      },
      {
       "output_type": "stream",
       "stream": "stdout",
       "text": [
        "\n",
        "39\n",
        "40"
       ]
      },
      {
       "output_type": "stream",
       "stream": "stdout",
       "text": [
        "\n",
        "41\n",
        "42"
       ]
      },
      {
       "output_type": "stream",
       "stream": "stdout",
       "text": [
        "\n",
        "43\n",
        "44"
       ]
      },
      {
       "output_type": "stream",
       "stream": "stdout",
       "text": [
        "\n",
        "45\n",
        "46"
       ]
      },
      {
       "output_type": "stream",
       "stream": "stdout",
       "text": [
        "\n",
        "47\n",
        "48"
       ]
      },
      {
       "output_type": "stream",
       "stream": "stdout",
       "text": [
        "\n",
        "49\n",
        "50"
       ]
      },
      {
       "output_type": "stream",
       "stream": "stdout",
       "text": [
        "\n",
        "51\n",
        "52"
       ]
      },
      {
       "output_type": "stream",
       "stream": "stdout",
       "text": [
        "\n",
        "53\n",
        "54"
       ]
      },
      {
       "output_type": "stream",
       "stream": "stdout",
       "text": [
        "\n",
        "55"
       ]
      },
      {
       "output_type": "stream",
       "stream": "stdout",
       "text": [
        "\n",
        "56\n",
        "57"
       ]
      },
      {
       "output_type": "stream",
       "stream": "stdout",
       "text": [
        "\n",
        "58\n",
        "59"
       ]
      },
      {
       "output_type": "stream",
       "stream": "stdout",
       "text": [
        "\n",
        "60\n",
        "61"
       ]
      },
      {
       "output_type": "stream",
       "stream": "stdout",
       "text": [
        "\n",
        "62\n",
        "63"
       ]
      },
      {
       "output_type": "stream",
       "stream": "stdout",
       "text": [
        "\n",
        "64\n",
        "65"
       ]
      },
      {
       "output_type": "stream",
       "stream": "stdout",
       "text": [
        "\n",
        "66"
       ]
      },
      {
       "output_type": "stream",
       "stream": "stdout",
       "text": [
        "\n",
        "67\n",
        "68"
       ]
      },
      {
       "output_type": "stream",
       "stream": "stdout",
       "text": [
        "\n",
        "69\n",
        "70"
       ]
      },
      {
       "output_type": "stream",
       "stream": "stdout",
       "text": [
        "\n",
        "71"
       ]
      },
      {
       "output_type": "stream",
       "stream": "stdout",
       "text": [
        "\n",
        "72\n",
        "73"
       ]
      },
      {
       "output_type": "stream",
       "stream": "stdout",
       "text": [
        "\n",
        "74\n",
        "75"
       ]
      },
      {
       "output_type": "stream",
       "stream": "stdout",
       "text": [
        "\n",
        "76\n",
        "77"
       ]
      },
      {
       "output_type": "stream",
       "stream": "stdout",
       "text": [
        "\n",
        "78\n",
        "79"
       ]
      },
      {
       "output_type": "stream",
       "stream": "stdout",
       "text": [
        "\n",
        "80\n",
        "81"
       ]
      },
      {
       "output_type": "stream",
       "stream": "stdout",
       "text": [
        "\n",
        "82\n",
        "83"
       ]
      },
      {
       "output_type": "stream",
       "stream": "stdout",
       "text": [
        "\n",
        "84\n",
        "85"
       ]
      },
      {
       "output_type": "stream",
       "stream": "stdout",
       "text": [
        "\n",
        "86"
       ]
      },
      {
       "output_type": "stream",
       "stream": "stdout",
       "text": [
        "\n",
        "87"
       ]
      },
      {
       "output_type": "stream",
       "stream": "stdout",
       "text": [
        "\n",
        "88"
       ]
      },
      {
       "output_type": "stream",
       "stream": "stdout",
       "text": [
        "\n",
        "89\n",
        "90"
       ]
      },
      {
       "output_type": "stream",
       "stream": "stdout",
       "text": [
        "\n",
        "91\n",
        "92"
       ]
      },
      {
       "output_type": "stream",
       "stream": "stdout",
       "text": [
        "\n",
        "93\n",
        "94"
       ]
      },
      {
       "output_type": "stream",
       "stream": "stdout",
       "text": [
        "\n",
        "95\n",
        "96"
       ]
      },
      {
       "output_type": "stream",
       "stream": "stdout",
       "text": [
        "\n",
        "97\n",
        "98"
       ]
      },
      {
       "output_type": "stream",
       "stream": "stdout",
       "text": [
        "\n",
        "99\n",
        "tweetCount: 300"
       ]
      },
      {
       "output_type": "stream",
       "stream": "stdout",
       "text": [
        "\n",
        "0"
       ]
      },
      {
       "output_type": "stream",
       "stream": "stdout",
       "text": [
        "\n",
        "1"
       ]
      },
      {
       "output_type": "stream",
       "stream": "stdout",
       "text": [
        "\n",
        "2\n",
        "3"
       ]
      },
      {
       "output_type": "stream",
       "stream": "stdout",
       "text": [
        "\n",
        "4\n",
        "5"
       ]
      },
      {
       "output_type": "stream",
       "stream": "stdout",
       "text": [
        "\n",
        "6\n",
        "7"
       ]
      },
      {
       "output_type": "stream",
       "stream": "stdout",
       "text": [
        "\n",
        "8\n",
        "9"
       ]
      },
      {
       "output_type": "stream",
       "stream": "stdout",
       "text": [
        "\n",
        "10\n",
        "11"
       ]
      },
      {
       "output_type": "stream",
       "stream": "stdout",
       "text": [
        "\n",
        "12\n",
        "13"
       ]
      },
      {
       "output_type": "stream",
       "stream": "stdout",
       "text": [
        "\n",
        "14\n",
        "15"
       ]
      },
      {
       "output_type": "stream",
       "stream": "stdout",
       "text": [
        "\n",
        "16"
       ]
      },
      {
       "output_type": "stream",
       "stream": "stdout",
       "text": [
        "\n",
        "17\n",
        "18"
       ]
      },
      {
       "output_type": "stream",
       "stream": "stdout",
       "text": [
        "\n",
        "19"
       ]
      },
      {
       "output_type": "stream",
       "stream": "stdout",
       "text": [
        "\n",
        "20\n",
        "21"
       ]
      },
      {
       "output_type": "stream",
       "stream": "stdout",
       "text": [
        "\n",
        "22\n",
        "23"
       ]
      },
      {
       "output_type": "stream",
       "stream": "stdout",
       "text": [
        "\n",
        "24\n",
        "25"
       ]
      },
      {
       "output_type": "stream",
       "stream": "stdout",
       "text": [
        "\n",
        "26\n",
        "27"
       ]
      },
      {
       "output_type": "stream",
       "stream": "stdout",
       "text": [
        "\n",
        "28\n",
        "29"
       ]
      },
      {
       "output_type": "stream",
       "stream": "stdout",
       "text": [
        "\n",
        "30\n",
        "31"
       ]
      },
      {
       "output_type": "stream",
       "stream": "stdout",
       "text": [
        "\n",
        "32\n",
        "33"
       ]
      },
      {
       "output_type": "stream",
       "stream": "stdout",
       "text": [
        "\n",
        "34\n",
        "35"
       ]
      },
      {
       "output_type": "stream",
       "stream": "stdout",
       "text": [
        "\n",
        "36"
       ]
      },
      {
       "output_type": "stream",
       "stream": "stdout",
       "text": [
        "\n",
        "37\n",
        "38"
       ]
      },
      {
       "output_type": "stream",
       "stream": "stdout",
       "text": [
        "\n",
        "39\n",
        "40"
       ]
      },
      {
       "output_type": "stream",
       "stream": "stdout",
       "text": [
        "\n",
        "41\n",
        "42"
       ]
      },
      {
       "output_type": "stream",
       "stream": "stdout",
       "text": [
        "\n",
        "43\n",
        "44"
       ]
      },
      {
       "output_type": "stream",
       "stream": "stdout",
       "text": [
        "\n",
        "45\n",
        "46"
       ]
      },
      {
       "output_type": "stream",
       "stream": "stdout",
       "text": [
        "\n",
        "47\n",
        "48"
       ]
      },
      {
       "output_type": "stream",
       "stream": "stdout",
       "text": [
        "\n",
        "49\n",
        "50"
       ]
      },
      {
       "output_type": "stream",
       "stream": "stdout",
       "text": [
        "\n",
        "51\n",
        "52"
       ]
      },
      {
       "output_type": "stream",
       "stream": "stdout",
       "text": [
        "\n",
        "53"
       ]
      },
      {
       "output_type": "stream",
       "stream": "stdout",
       "text": [
        "\n",
        "54\n",
        "55"
       ]
      },
      {
       "output_type": "stream",
       "stream": "stdout",
       "text": [
        "\n",
        "56\n",
        "57"
       ]
      },
      {
       "output_type": "stream",
       "stream": "stdout",
       "text": [
        "\n",
        "58\n",
        "59"
       ]
      },
      {
       "output_type": "stream",
       "stream": "stdout",
       "text": [
        "\n",
        "60\n",
        "61"
       ]
      },
      {
       "output_type": "stream",
       "stream": "stdout",
       "text": [
        "\n",
        "62\n",
        "63"
       ]
      },
      {
       "output_type": "stream",
       "stream": "stdout",
       "text": [
        "\n",
        "64\n",
        "65"
       ]
      },
      {
       "output_type": "stream",
       "stream": "stdout",
       "text": [
        "\n",
        "66\n",
        "67"
       ]
      },
      {
       "output_type": "stream",
       "stream": "stdout",
       "text": [
        "\n",
        "68\n",
        "69"
       ]
      },
      {
       "output_type": "stream",
       "stream": "stdout",
       "text": [
        "\n",
        "70\n",
        "71"
       ]
      },
      {
       "output_type": "stream",
       "stream": "stdout",
       "text": [
        "\n",
        "72\n",
        "73"
       ]
      },
      {
       "output_type": "stream",
       "stream": "stdout",
       "text": [
        "\n",
        "74\n",
        "75"
       ]
      },
      {
       "output_type": "stream",
       "stream": "stdout",
       "text": [
        "\n",
        "76\n",
        "77"
       ]
      },
      {
       "output_type": "stream",
       "stream": "stdout",
       "text": [
        "\n",
        "78\n",
        "79"
       ]
      },
      {
       "output_type": "stream",
       "stream": "stdout",
       "text": [
        "\n",
        "80\n",
        "81"
       ]
      },
      {
       "output_type": "stream",
       "stream": "stdout",
       "text": [
        "\n",
        "82\n",
        "83"
       ]
      },
      {
       "output_type": "stream",
       "stream": "stdout",
       "text": [
        "\n",
        "84\n",
        "85"
       ]
      },
      {
       "output_type": "stream",
       "stream": "stdout",
       "text": [
        "\n",
        "86"
       ]
      },
      {
       "output_type": "stream",
       "stream": "stdout",
       "text": [
        "\n",
        "87\n",
        "88"
       ]
      },
      {
       "output_type": "stream",
       "stream": "stdout",
       "text": [
        "\n",
        "89\n",
        "90"
       ]
      },
      {
       "output_type": "stream",
       "stream": "stdout",
       "text": [
        "\n",
        "91\n",
        "92"
       ]
      },
      {
       "output_type": "stream",
       "stream": "stdout",
       "text": [
        "\n",
        "93\n",
        "94"
       ]
      },
      {
       "output_type": "stream",
       "stream": "stdout",
       "text": [
        "\n",
        "95\n",
        "96"
       ]
      },
      {
       "output_type": "stream",
       "stream": "stdout",
       "text": [
        "\n",
        "97\n",
        "98"
       ]
      },
      {
       "output_type": "stream",
       "stream": "stdout",
       "text": [
        "\n",
        "99\n",
        "tweetCount: 400"
       ]
      },
      {
       "output_type": "stream",
       "stream": "stdout",
       "text": [
        "\n",
        "0"
       ]
      },
      {
       "output_type": "stream",
       "stream": "stdout",
       "text": [
        "\n",
        "1\n",
        "2"
       ]
      },
      {
       "output_type": "stream",
       "stream": "stdout",
       "text": [
        "\n",
        "3\n",
        "4"
       ]
      },
      {
       "output_type": "stream",
       "stream": "stdout",
       "text": [
        "\n",
        "5\n",
        "6"
       ]
      },
      {
       "output_type": "stream",
       "stream": "stdout",
       "text": [
        "\n",
        "7\n",
        "8"
       ]
      },
      {
       "output_type": "stream",
       "stream": "stdout",
       "text": [
        "\n",
        "9\n",
        "10"
       ]
      },
      {
       "output_type": "stream",
       "stream": "stdout",
       "text": [
        "\n",
        "11\n",
        "12"
       ]
      },
      {
       "output_type": "stream",
       "stream": "stdout",
       "text": [
        "\n",
        "13\n",
        "14"
       ]
      },
      {
       "output_type": "stream",
       "stream": "stdout",
       "text": [
        "\n",
        "15"
       ]
      },
      {
       "output_type": "stream",
       "stream": "stdout",
       "text": [
        "\n",
        "16\n",
        "17"
       ]
      },
      {
       "output_type": "stream",
       "stream": "stdout",
       "text": [
        "\n",
        "18\n",
        "19"
       ]
      },
      {
       "output_type": "stream",
       "stream": "stdout",
       "text": [
        "\n",
        "20\n",
        "21"
       ]
      },
      {
       "output_type": "stream",
       "stream": "stdout",
       "text": [
        "\n",
        "22\n",
        "23"
       ]
      },
      {
       "output_type": "stream",
       "stream": "stdout",
       "text": [
        "\n",
        "24\n",
        "25"
       ]
      },
      {
       "output_type": "stream",
       "stream": "stdout",
       "text": [
        "\n",
        "26\n",
        "27"
       ]
      },
      {
       "output_type": "stream",
       "stream": "stdout",
       "text": [
        "\n",
        "28\n",
        "29"
       ]
      },
      {
       "output_type": "stream",
       "stream": "stdout",
       "text": [
        "\n",
        "30\n",
        "31"
       ]
      },
      {
       "output_type": "stream",
       "stream": "stdout",
       "text": [
        "\n",
        "32\n",
        "33"
       ]
      },
      {
       "output_type": "stream",
       "stream": "stdout",
       "text": [
        "\n",
        "34"
       ]
      },
      {
       "output_type": "stream",
       "stream": "stdout",
       "text": [
        "\n",
        "35\n",
        "36"
       ]
      },
      {
       "output_type": "stream",
       "stream": "stdout",
       "text": [
        "\n",
        "37\n",
        "38"
       ]
      },
      {
       "output_type": "stream",
       "stream": "stdout",
       "text": [
        "\n",
        "39\n",
        "40"
       ]
      },
      {
       "output_type": "stream",
       "stream": "stdout",
       "text": [
        "\n",
        "41\n",
        "42"
       ]
      },
      {
       "output_type": "stream",
       "stream": "stdout",
       "text": [
        "\n",
        "43\n",
        "44"
       ]
      },
      {
       "output_type": "stream",
       "stream": "stdout",
       "text": [
        "\n",
        "45\n",
        "46"
       ]
      },
      {
       "output_type": "stream",
       "stream": "stdout",
       "text": [
        "\n",
        "47\n",
        "48"
       ]
      },
      {
       "output_type": "stream",
       "stream": "stdout",
       "text": [
        "\n",
        "49\n",
        "50"
       ]
      },
      {
       "output_type": "stream",
       "stream": "stdout",
       "text": [
        "\n",
        "51\n",
        "52"
       ]
      },
      {
       "output_type": "stream",
       "stream": "stdout",
       "text": [
        "\n",
        "53\n",
        "54"
       ]
      },
      {
       "output_type": "stream",
       "stream": "stdout",
       "text": [
        "\n",
        "55\n",
        "56"
       ]
      },
      {
       "output_type": "stream",
       "stream": "stdout",
       "text": [
        "\n",
        "57\n",
        "58"
       ]
      },
      {
       "output_type": "stream",
       "stream": "stdout",
       "text": [
        "\n",
        "59\n",
        "60"
       ]
      },
      {
       "output_type": "stream",
       "stream": "stdout",
       "text": [
        "\n",
        "61\n",
        "62"
       ]
      },
      {
       "output_type": "stream",
       "stream": "stdout",
       "text": [
        "\n",
        "63\n",
        "64"
       ]
      },
      {
       "output_type": "stream",
       "stream": "stdout",
       "text": [
        "\n",
        "65\n",
        "66"
       ]
      },
      {
       "output_type": "stream",
       "stream": "stdout",
       "text": [
        "\n",
        "67"
       ]
      },
      {
       "output_type": "stream",
       "stream": "stdout",
       "text": [
        "\n",
        "68\n",
        "69"
       ]
      },
      {
       "output_type": "stream",
       "stream": "stdout",
       "text": [
        "\n",
        "70\n",
        "71"
       ]
      },
      {
       "output_type": "stream",
       "stream": "stdout",
       "text": [
        "\n",
        "72\n",
        "73"
       ]
      },
      {
       "output_type": "stream",
       "stream": "stdout",
       "text": [
        "\n",
        "74\n",
        "75"
       ]
      },
      {
       "output_type": "stream",
       "stream": "stdout",
       "text": [
        "\n",
        "76\n",
        "77"
       ]
      },
      {
       "output_type": "stream",
       "stream": "stdout",
       "text": [
        "\n",
        "78\n",
        "79"
       ]
      },
      {
       "output_type": "stream",
       "stream": "stdout",
       "text": [
        "\n",
        "80\n",
        "81"
       ]
      },
      {
       "output_type": "stream",
       "stream": "stdout",
       "text": [
        "\n",
        "82\n",
        "83"
       ]
      },
      {
       "output_type": "stream",
       "stream": "stdout",
       "text": [
        "\n",
        "84"
       ]
      },
      {
       "output_type": "stream",
       "stream": "stdout",
       "text": [
        "\n",
        "85\n",
        "86"
       ]
      },
      {
       "output_type": "stream",
       "stream": "stdout",
       "text": [
        "\n",
        "87\n",
        "88"
       ]
      },
      {
       "output_type": "stream",
       "stream": "stdout",
       "text": [
        "\n",
        "89\n",
        "90"
       ]
      },
      {
       "output_type": "stream",
       "stream": "stdout",
       "text": [
        "\n",
        "91\n",
        "92"
       ]
      },
      {
       "output_type": "stream",
       "stream": "stdout",
       "text": [
        "\n",
        "93\n",
        "94"
       ]
      },
      {
       "output_type": "stream",
       "stream": "stdout",
       "text": [
        "\n",
        "95\n",
        "96"
       ]
      },
      {
       "output_type": "stream",
       "stream": "stdout",
       "text": [
        "\n",
        "97\n",
        "98"
       ]
      },
      {
       "output_type": "stream",
       "stream": "stdout",
       "text": [
        "\n",
        "99\n",
        "tweetCount: 500"
       ]
      },
      {
       "output_type": "stream",
       "stream": "stdout",
       "text": [
        "\n",
        "0"
       ]
      },
      {
       "output_type": "stream",
       "stream": "stdout",
       "text": [
        "\n",
        "1\n",
        "2"
       ]
      },
      {
       "output_type": "stream",
       "stream": "stdout",
       "text": [
        "\n",
        "3\n",
        "4"
       ]
      },
      {
       "output_type": "stream",
       "stream": "stdout",
       "text": [
        "\n",
        "5\n",
        "6"
       ]
      },
      {
       "output_type": "stream",
       "stream": "stdout",
       "text": [
        "\n",
        "7\n",
        "8"
       ]
      },
      {
       "output_type": "stream",
       "stream": "stdout",
       "text": [
        "\n",
        "9\n",
        "10"
       ]
      },
      {
       "output_type": "stream",
       "stream": "stdout",
       "text": [
        "\n",
        "11\n",
        "12"
       ]
      },
      {
       "output_type": "stream",
       "stream": "stdout",
       "text": [
        "\n",
        "13\n",
        "14"
       ]
      },
      {
       "output_type": "stream",
       "stream": "stdout",
       "text": [
        "\n",
        "15"
       ]
      },
      {
       "output_type": "stream",
       "stream": "stdout",
       "text": [
        "\n",
        "16\n",
        "17"
       ]
      },
      {
       "output_type": "stream",
       "stream": "stdout",
       "text": [
        "\n",
        "18\n",
        "19"
       ]
      },
      {
       "output_type": "stream",
       "stream": "stdout",
       "text": [
        "\n",
        "20\n",
        "21"
       ]
      },
      {
       "output_type": "stream",
       "stream": "stdout",
       "text": [
        "\n",
        "22\n",
        "23"
       ]
      },
      {
       "output_type": "stream",
       "stream": "stdout",
       "text": [
        "\n",
        "24"
       ]
      },
      {
       "output_type": "stream",
       "stream": "stdout",
       "text": [
        "\n",
        "25\n",
        "26"
       ]
      },
      {
       "output_type": "stream",
       "stream": "stdout",
       "text": [
        "\n",
        "27\n",
        "28"
       ]
      },
      {
       "output_type": "stream",
       "stream": "stdout",
       "text": [
        "\n",
        "29\n",
        "30"
       ]
      },
      {
       "output_type": "stream",
       "stream": "stdout",
       "text": [
        "\n",
        "31\n",
        "32"
       ]
      },
      {
       "output_type": "stream",
       "stream": "stdout",
       "text": [
        "\n",
        "33\n",
        "34"
       ]
      },
      {
       "output_type": "stream",
       "stream": "stdout",
       "text": [
        "\n",
        "35\n",
        "36"
       ]
      },
      {
       "output_type": "stream",
       "stream": "stdout",
       "text": [
        "\n",
        "37\n",
        "38"
       ]
      },
      {
       "output_type": "stream",
       "stream": "stdout",
       "text": [
        "\n",
        "39\n",
        "40"
       ]
      },
      {
       "output_type": "stream",
       "stream": "stdout",
       "text": [
        "\n",
        "41\n",
        "42"
       ]
      },
      {
       "output_type": "stream",
       "stream": "stdout",
       "text": [
        "\n",
        "43\n",
        "44"
       ]
      },
      {
       "output_type": "stream",
       "stream": "stdout",
       "text": [
        "\n",
        "45\n",
        "46"
       ]
      },
      {
       "output_type": "stream",
       "stream": "stdout",
       "text": [
        "\n",
        "47\n",
        "48"
       ]
      },
      {
       "output_type": "stream",
       "stream": "stdout",
       "text": [
        "\n",
        "49\n",
        "50"
       ]
      },
      {
       "output_type": "stream",
       "stream": "stdout",
       "text": [
        "\n",
        "51\n",
        "52"
       ]
      },
      {
       "output_type": "stream",
       "stream": "stdout",
       "text": [
        "\n",
        "53\n",
        "54"
       ]
      },
      {
       "output_type": "stream",
       "stream": "stdout",
       "text": [
        "\n",
        "55\n",
        "56"
       ]
      },
      {
       "output_type": "stream",
       "stream": "stdout",
       "text": [
        "\n",
        "57\n",
        "58"
       ]
      },
      {
       "output_type": "stream",
       "stream": "stdout",
       "text": [
        "\n",
        "59\n",
        "60"
       ]
      },
      {
       "output_type": "stream",
       "stream": "stdout",
       "text": [
        "\n",
        "61\n",
        "62"
       ]
      },
      {
       "output_type": "stream",
       "stream": "stdout",
       "text": [
        "\n",
        "63\n",
        "64"
       ]
      },
      {
       "output_type": "stream",
       "stream": "stdout",
       "text": [
        "\n",
        "65"
       ]
      },
      {
       "output_type": "stream",
       "stream": "stdout",
       "text": [
        "\n",
        "66\n",
        "67"
       ]
      },
      {
       "output_type": "stream",
       "stream": "stdout",
       "text": [
        "\n",
        "68\n",
        "69"
       ]
      },
      {
       "output_type": "stream",
       "stream": "stdout",
       "text": [
        "\n",
        "70\n",
        "71"
       ]
      },
      {
       "output_type": "stream",
       "stream": "stdout",
       "text": [
        "\n",
        "72\n",
        "73"
       ]
      },
      {
       "output_type": "stream",
       "stream": "stdout",
       "text": [
        "\n",
        "74\n",
        "75"
       ]
      },
      {
       "output_type": "stream",
       "stream": "stdout",
       "text": [
        "\n",
        "76\n",
        "77"
       ]
      },
      {
       "output_type": "stream",
       "stream": "stdout",
       "text": [
        "\n",
        "78\n",
        "79"
       ]
      },
      {
       "output_type": "stream",
       "stream": "stdout",
       "text": [
        "\n",
        "80\n",
        "81"
       ]
      },
      {
       "output_type": "stream",
       "stream": "stdout",
       "text": [
        "\n",
        "82\n",
        "83"
       ]
      },
      {
       "output_type": "stream",
       "stream": "stdout",
       "text": [
        "\n",
        "84\n",
        "85"
       ]
      },
      {
       "output_type": "stream",
       "stream": "stdout",
       "text": [
        "\n",
        "86\n",
        "87"
       ]
      },
      {
       "output_type": "stream",
       "stream": "stdout",
       "text": [
        "\n",
        "88\n",
        "89"
       ]
      },
      {
       "output_type": "stream",
       "stream": "stdout",
       "text": [
        "\n",
        "90"
       ]
      },
      {
       "output_type": "stream",
       "stream": "stdout",
       "text": [
        "\n",
        "91\n",
        "92"
       ]
      },
      {
       "output_type": "stream",
       "stream": "stdout",
       "text": [
        "\n",
        "93"
       ]
      },
      {
       "output_type": "stream",
       "stream": "stdout",
       "text": [
        "\n",
        "94"
       ]
      },
      {
       "output_type": "stream",
       "stream": "stdout",
       "text": [
        "\n",
        "95\n",
        "96"
       ]
      },
      {
       "output_type": "stream",
       "stream": "stdout",
       "text": [
        "\n",
        "97\n",
        "98"
       ]
      },
      {
       "output_type": "stream",
       "stream": "stdout",
       "text": [
        "\n",
        "99\n",
        "\n",
        "Search Index87\n",
        "URL: http://www.jpl.nasa.gov/news/news.php?release=2013-167\n",
        "Downloading max 10000000 tweets\n",
        "No more tweets found"
       ]
      },
      {
       "output_type": "stream",
       "stream": "stdout",
       "text": [
        "\n",
        "\n",
        "Search Index88\n",
        "URL: http://tourism.alabama.gov/2013/05/1148/\n",
        "Downloading max 10000000 tweets\n",
        "tweetCount: 1"
       ]
      },
      {
       "output_type": "stream",
       "stream": "stdout",
       "text": [
        "\n",
        "0\n",
        "No more tweets found"
       ]
      },
      {
       "output_type": "stream",
       "stream": "stdout",
       "text": [
        "\n",
        "\n",
        "Search Index89\n",
        "URL: http://www.jpl.nasa.gov/news/news.php?release=2013-167\n",
        "Downloading max 10000000 tweets\n",
        "No more tweets found"
       ]
      },
      {
       "output_type": "stream",
       "stream": "stdout",
       "text": [
        "\n",
        "\n",
        "Search Index90\n",
        "URL: http://www.colorado.gov/esri/webmaps/my-hood.html?webmap-id=a4838d49acca478e82f453d209bc81d9\n",
        "Downloading max 10000000 tweets\n",
        "No more tweets found"
       ]
      },
      {
       "output_type": "stream",
       "stream": "stdout",
       "text": [
        "\n",
        "\n",
        "Search Index91\n",
        "URL: https://forms.house.gov/blumenauer/webforms/issue_subscribe.html\n",
        "Downloading max 10000000 tweets\n",
        "No more tweets found"
       ]
      },
      {
       "output_type": "stream",
       "stream": "stdout",
       "text": [
        "\n",
        "\n",
        "Search Index92\n",
        "URL: http://alerts.weather.gov/cap/wwacapget.php?x=NE124F005428B8.SpecialWeatherStatement.124F005FE75CNE.LBFSPSLBF.9d3d13558b93b669f48964d21c098b84\n",
        "Downloading max 10000000 tweets\n",
        "No more tweets found"
       ]
      },
      {
       "output_type": "stream",
       "stream": "stdout",
       "text": [
        "\n",
        "\n",
        "Search Index93\n",
        "URL: http://blog.tsa.gov/2013/05/tsa-week-in-review-25-loaded-firearms.html?utm_medium=twitter&utm_source=twitterfeed\n",
        "Downloading max 10000000 tweets\n",
        "No more tweets found"
       ]
      },
      {
       "output_type": "stream",
       "stream": "stdout",
       "text": [
        "\n",
        "\n",
        "Search Index94\n",
        "URL: http://www.nasa.gov/mission_pages/station/expeditions/expedition36/e36_051713.html\n",
        "Downloading max 10000000 tweets\n",
        "No more tweets found"
       ]
      },
      {
       "output_type": "stream",
       "stream": "stdout",
       "text": [
        "\n",
        "\n",
        "Search Index95\n",
        "URL: http://www.fairfaxcounty.gov/parks/press/html/pr025-13.htm\n",
        "Downloading max 10000000 tweets\n",
        "No more tweets found"
       ]
      },
      {
       "output_type": "stream",
       "stream": "stdout",
       "text": [
        "\n",
        "\n",
        "Search Index96\n",
        "URL: http://www.fda.gov/Safety/Recalls/ucm352796.htm\n",
        "Downloading max 10000000 tweets\n",
        "tweetCount: 1"
       ]
      },
      {
       "output_type": "stream",
       "stream": "stdout",
       "text": [
        "\n",
        "0\n",
        "No more tweets found"
       ]
      },
      {
       "output_type": "stream",
       "stream": "stdout",
       "text": [
        "\n",
        "\n",
        "Search Index97\n",
        "URL: http://blogs.loc.gov/digitalpreservation/2013/05/fifty-digital-preservation-activities-you-can-do/?utm_source=feedly\n",
        "Downloading max 10000000 tweets\n",
        "No more tweets found"
       ]
      },
      {
       "output_type": "stream",
       "stream": "stdout",
       "text": [
        "\n",
        "\n",
        "Search Index98\n",
        "URL: http://www.jpl.nasa.gov/news/news.php?release=2013-167\n",
        "Downloading max 10000000 tweets\n",
        "No more tweets found"
       ]
      },
      {
       "output_type": "stream",
       "stream": "stdout",
       "text": [
        "\n",
        "\n",
        "Search Index99\n",
        "URL: http://www.fbi.gov/detroit/press-releases/2013/pennsylvania-man-sentenced-for-cyberstalking-and-child-pornography-offenses?utm_source=twitterfeed&utm_medium=twitter\n",
        "Downloading max 10000000 tweets\n",
        "No more tweets found"
       ]
      },
      {
       "output_type": "stream",
       "stream": "stdout",
       "text": [
        "\n",
        "\n",
        "Search Index100\n",
        "URL: http://courts.mi.gov/Courts/MichiganSupremeCourt/BLE/Documents/2013-FebruaryBarExamResults.pdf\n",
        "Downloading max 10000000 tweets\n",
        "No more tweets found"
       ]
      },
      {
       "output_type": "stream",
       "stream": "stdout",
       "text": [
        "\n",
        "\n",
        "Search Index101\n",
        "URL: http://www.sec.gov/Archives/edgar/data/789019/000118368113000020/xslF345X03/edgar.xml\n",
        "Downloading max 10000000 tweets\n",
        "No more tweets found"
       ]
      },
      {
       "output_type": "stream",
       "stream": "stdout",
       "text": [
        "\n",
        "\n",
        "Search Index102\n",
        "URL: http://www.nasa.gov/centers/kennedy/news/releases/2013/release-20130517.html\n",
        "Downloading max 10000000 tweets\n",
        "No more tweets found"
       ]
      },
      {
       "output_type": "stream",
       "stream": "stdout",
       "text": [
        "\n",
        "\n",
        "Search Index103\n",
        "URL: http://www.army.mil/article/103528\n",
        "Downloading max 10000000 tweets\n",
        "No more tweets found"
       ]
      },
      {
       "output_type": "stream",
       "stream": "stdout",
       "text": [
        "\n",
        "\n",
        "Search Index104\n",
        "URL: http://science.nasa.gov/media/medialibrary/2013/05/16/17Mar2013_SD_impact_3h50m542.7s.wmv\n",
        "Downloading max 10000000 tweets\n",
        "tweetCount: 10"
       ]
      },
      {
       "output_type": "stream",
       "stream": "stdout",
       "text": [
        "\n",
        "0\n",
        "1\n",
        "2\n",
        "3\n",
        "4\n",
        "5\n",
        "6\n",
        "7\n",
        "8\n",
        "9\n",
        "No more tweets found"
       ]
      },
      {
       "output_type": "stream",
       "stream": "stdout",
       "text": [
        "\n",
        "\n",
        "Search Index105\n",
        "URL: http://apod.nasa.gov/apod/ap130517.html\n",
        "Downloading max 10000000 tweets\n",
        "tweetCount: 9"
       ]
      },
      {
       "output_type": "stream",
       "stream": "stdout",
       "text": [
        "\n",
        "0\n",
        "1\n",
        "2\n",
        "3\n",
        "4\n",
        "5\n",
        "6\n",
        "7\n",
        "8\n",
        "No more tweets found"
       ]
      },
      {
       "output_type": "stream",
       "stream": "stdout",
       "text": [
        "\n",
        "\n",
        "Search Index106\n",
        "URL: http://www.democraticwhip.gov/content/hoyer-statement-cbos-analysis-presidents-budget\n",
        "Downloading max 10000000 tweets\n",
        "No more tweets found"
       ]
      },
      {
       "output_type": "stream",
       "stream": "stdout",
       "text": [
        "\n",
        "\n",
        "Search Index107\n",
        "URL: http://www.fs.usda.gov/detail/mountsthelens/conditions/?cid=STELPRDB5291050\n",
        "Downloading max 10000000 tweets\n",
        "No more tweets found"
       ]
      },
      {
       "output_type": "stream",
       "stream": "stdout",
       "text": [
        "\n",
        "\n",
        "Search Index108\n",
        "URL: http://apod.nasa.gov/apod/ap130515.html\n",
        "Downloading max 10000000 tweets\n",
        "tweetCount: 1"
       ]
      },
      {
       "output_type": "stream",
       "stream": "stdout",
       "text": [
        "\n",
        "0\n",
        "No more tweets found"
       ]
      },
      {
       "output_type": "stream",
       "stream": "stdout",
       "text": [
        "\n",
        "\n",
        "Search Index109\n",
        "URL: http://www.nws.noaa.gov/com/weatherreadynation/news/130425_dualpol.html\n",
        "Downloading max 10000000 tweets\n",
        "tweetCount: 1"
       ]
      },
      {
       "output_type": "stream",
       "stream": "stdout",
       "text": [
        "\n",
        "0\n",
        "No more tweets found"
       ]
      },
      {
       "output_type": "stream",
       "stream": "stdout",
       "text": [
        "\n",
        "\n",
        "Search Index110\n",
        "URL: http://www.spc.noaa.gov/products/watch/ww0168.html\n",
        "Downloading max 10000000 tweets\n",
        "tweetCount: 1"
       ]
      },
      {
       "output_type": "stream",
       "stream": "stdout",
       "text": [
        "\n",
        "0\n",
        "No more tweets found"
       ]
      },
      {
       "output_type": "stream",
       "stream": "stdout",
       "text": [
        "\n",
        "\n",
        "Search Index111\n",
        "URL: https://tips.fbi.gov/\n",
        "Downloading max 10000000 tweets\n",
        "tweetCount: 12"
       ]
      },
      {
       "output_type": "stream",
       "stream": "stdout",
       "text": [
        "\n",
        "0"
       ]
      },
      {
       "output_type": "stream",
       "stream": "stdout",
       "text": [
        "\n",
        "1\n",
        "2\n",
        "3\n",
        "4\n",
        "5\n",
        "6\n",
        "7\n",
        "8\n",
        "9\n",
        "10\n",
        "11\n",
        "No more tweets found"
       ]
      },
      {
       "output_type": "stream",
       "stream": "stdout",
       "text": [
        "\n",
        "\n",
        "Search Index112\n",
        "URL: http://www.recoverymonth.gov/en/Voices%20for%20Recovery/Share%20Your%20Story.aspx\n",
        "Downloading max 10000000 tweets\n",
        "No more tweets found"
       ]
      },
      {
       "output_type": "stream",
       "stream": "stdout",
       "text": [
        "\n",
        "\n",
        "Search Index113\n",
        "URL: http://studentaid.ed.gov/repay-loans/understand/plans?sf12931183=1\n",
        "Downloading max 10000000 tweets\n",
        "No more tweets found"
       ]
      },
      {
       "output_type": "stream",
       "stream": "stdout",
       "text": [
        "\n",
        "\n",
        "Search Index114\n",
        "URL: http://www.plano.gov/index.aspx?NID=608\n",
        "Downloading max 10000000 tweets\n",
        "No more tweets found"
       ]
      },
      {
       "output_type": "stream",
       "stream": "stdout",
       "text": [
        "\n",
        "\n",
        "Search Index115\n",
        "URL: http://fastlane.dot.gov/2012/02/as-readers-of-this-blog-know-i-have-visited-nearly-every-state-in-america-during-the-past-three-years-to-discuss-and-celebra.html\n",
        "Downloading max 10000000 tweets\n",
        "No more tweets found"
       ]
      },
      {
       "output_type": "stream",
       "stream": "stdout",
       "text": [
        "\n",
        "\n",
        "Search Index116\n",
        "URL: http://www.benefits.gov/benefits/benefit-finder/#benefits&qc=cat_1\n",
        "Downloading max 10000000 tweets\n",
        "No more tweets found"
       ]
      },
      {
       "output_type": "stream",
       "stream": "stdout",
       "text": [
        "\n",
        "\n",
        "Search Index117\n",
        "URL: http://www.fs.usda.gov/wps/portal/fsinternet/!ut/p/c4/04_SB8K8xLLM9MSSzPy8xBz9CP0os3gDfxMDT8MwRydLA1cj72BTSw8jAwjQL8h2VAQAng7kaQ!!/?ss=110623&navtype=BROWSEBYSUBJECT&cid=FSE_003714&navid=110160000000000&pnavid=110000000000000&position=BROWSEBYSUBJECT&ttype=activity&pname=Mount\n",
        "Downloading max 10000000 tweets\n",
        "No more tweets found"
       ]
      },
      {
       "output_type": "stream",
       "stream": "stdout",
       "text": [
        "\n",
        "\n",
        "Search Index118\n",
        "URL: http://www.fs.usda.gov/recarea/willamette/recreation/recarea/?recid=4363\n",
        "Downloading max 10000000 tweets\n",
        "No more tweets found"
       ]
      },
      {
       "output_type": "stream",
       "stream": "stdout",
       "text": [
        "\n",
        "\n",
        "Search Index119\n",
        "URL: http://www.nasa.gov/mission_pages/mer/news/mer20130517.html\n",
        "Downloading max 10000000 tweets\n",
        "tweetCount: 2"
       ]
      },
      {
       "output_type": "stream",
       "stream": "stdout",
       "text": [
        "\n",
        "0\n",
        "1\n",
        "No more tweets found"
       ]
      },
      {
       "output_type": "stream",
       "stream": "stdout",
       "text": [
        "\n",
        "\n",
        "Search Index120\n",
        "URL: http://www.dodlive.mil/index.php/2013/05/the-2013-warrior-games-a-visual-recap/\n",
        "Downloading max 10000000 tweets\n",
        "tweetCount: 3"
       ]
      },
      {
       "output_type": "stream",
       "stream": "stdout",
       "text": [
        "\n",
        "0\n",
        "1\n",
        "2\n",
        "No more tweets found"
       ]
      },
      {
       "output_type": "stream",
       "stream": "stdout",
       "text": [
        "\n",
        "\n",
        "Search Index121\n",
        "URL: http://www.jpl.nasa.gov/news/news.php?release=2013-165\n",
        "Downloading max 10000000 tweets\n",
        "No more tweets found"
       ]
      },
      {
       "output_type": "stream",
       "stream": "stdout",
       "text": [
        "\n",
        "\n",
        "Search Index122\n",
        "URL: http://www.speaker.gov/video/boehner-american-people-seeing-remarkable-arrogance-obama-administration\n",
        "Downloading max 10000000 tweets\n",
        "No more tweets found"
       ]
      },
      {
       "output_type": "stream",
       "stream": "stdout",
       "text": [
        "\n"
       ]
      }
     ],
     "prompt_number": 57
    },
    {
     "cell_type": "code",
     "collapsed": false,
     "input": [
      "import types\n",
      "\n",
      "finalDataList = [] #holds the data that we are analysing\n",
      "\n",
      "for index in range(len(twitterDataList)):\n",
      "        #print dataList_hh[index] + \" | \" + dataList_r[index] + \" | \" + dataList_u[index]\n",
      "    data = twitterDataList[index]\n",
      "    \n",
      "    twetteNumber = data[0]\n",
      "    geoData = data[2]\n",
      "    url = data[1]\n",
      "            \n",
      "    cords = []\n",
      "    for index in range(len(geoData)):\n",
      "        geo = geoData[index]\n",
      "\n",
      "        if type(geo) is types.DictType:\n",
      "            for key, value in dict.items(geo):\n",
      "                if key == 'coordinates':\n",
      "                    cords.append(value)\n",
      "    d = (url, cords)\n",
      "    finalDataList.append(d)"
     ],
     "language": "python",
     "metadata": {},
     "outputs": [],
     "prompt_number": 100
    },
    {
     "cell_type": "markdown",
     "metadata": {},
     "source": [
      "#We are ready to do so graphs!\n",
      "\n",
      "##Table showing URL and how many Geo codes are available from the tweets"
     ]
    },
    {
     "cell_type": "code",
     "collapsed": false,
     "input": [
      "from prettytable import PrettyTable\n",
      "\n",
      "x = PrettyTable([\"Index\",\"URL\", \"Geo Codes Count\"])\n",
      "#x.align[\"City name\"] = \"l\" # Left align city names\n",
      "x.padding_width = 1 # One space between column edges and contents (default)\n",
      "x.align['Index'], x.align['URL'], x.align['Geo Codes Count'] = 'c', 'l', 'c' # Set column alignment\n",
      "\n",
      "for index in range(len(finalDataList)):\n",
      "    data = finalDataList[index]\n",
      "    x.add_row([index,data[0],len(data[1])])\n",
      "    \n",
      "print x"
     ],
     "language": "python",
     "metadata": {},
     "outputs": [
      {
       "output_type": "stream",
       "stream": "stdout",
       "text": [
        "+-------+-------------------------------------------------------------------------------------------------+-----------------+\n",
        "| Index | URL                                                                                             | Geo Codes Count |\n",
        "+-------+-------------------------------------------------------------------------------------------------+-----------------+\n",
        "|   0   | http://doggett.house.gov/index.php/news/571-doggett-challenges-gop-exploitation-of-irs-failure- |        5        |\n",
        "|   1   | http://science.nasa.gov/science-news/science-at-nasa/2013/16may_lunarimpact/                    |        3        |\n",
        "|   2   | http://www.dodlive.mil/index.php/2013/05/the-2013-warrior-games-a-visual-recap/                 |        3        |\n",
        "|   3   | http://www.dodlive.mil/index.php/2013/05/the-2013-warrior-games-a-visual-recap/                 |        3        |\n",
        "|   4   | http://pld.dpi.wi.gov/files/pld/images/LinkWI.png                                               |        2        |\n",
        "|   5   | http://www.federalreserve.gov/pubs/feds/2010/201041/201041pap.pdf                               |        0        |\n",
        "|   6   | http://www.wsdot.wa.gov/ferries/schedule/bulletin.aspx                                          |        1        |\n",
        "|   7   | http://www.wsdot.wa.gov/ferries/schedule/bulletin.aspx                                          |        0        |\n",
        "|   8   | http://pld.dpi.wi.gov/files/pld/images/LinkWI.png                                               |        2        |\n",
        "|   9   | http://www.dnr.wa.gov/AboutDNR/Employment/Pages/Home.aspx                                       |        0        |\n",
        "|   10  | http://www.dnr.wa.gov/AboutDNR/Employment/Pages/Home.aspx                                       |        0        |\n",
        "|   11  | http://www.nasa.gov/mission_pages/mer/news/mer20130517.html                                     |        0        |\n",
        "|   12  | http://science.nasa.gov/science-news/science-at-nasa/2013/16may_lunarimpact/                    |        3        |\n",
        "|   13  | http://www.dodlive.mil/index.php/2013/05/the-2013-warrior-games-a-visual-recap/                 |        3        |\n",
        "|   14  | http://science.nasa.gov/science-news/science-at-nasa/2013/16may_lunarimpact/                    |        3        |\n",
        "|   15  | http://pld.dpi.wi.gov/files/pld/images/LinkWI.png                                               |        2        |\n",
        "|   16  | http://www.nasa.gov/multimedia/nasatv/index.html                                                |        0        |\n",
        "|   17  | http://www.nasa.gov/multimedia/nasatv/index.html                                                |        1        |\n",
        "|   18  | http://www.nasa.gov/multimedia/nasatv/index.html                                                |        0        |\n",
        "|   19  | http://www.nasa.gov/multimedia/nasatv/index.html                                                |        0        |\n",
        "|   20  | http://www.nasa.gov/multimedia/nasatv/index.html                                                |        0        |\n",
        "|   21  | http://tourism.alabama.gov/2013/05/1148/                                                        |        1        |\n",
        "|   22  | http://www.fda.gov/Safety/Recalls/ucm352796.htm                                                 |        0        |\n",
        "|   23  | http://science.nasa.gov/media/medialibrary/2013/05/16/17Mar2013_SD_impact_3h50m542.7s.wmv       |        10       |\n",
        "|   24  | http://apod.nasa.gov/apod/ap130517.html                                                         |        7        |\n",
        "|   25  | http://apod.nasa.gov/apod/ap130515.html                                                         |        1        |\n",
        "|   26  | http://www.nws.noaa.gov/com/weatherreadynation/news/130425_dualpol.html                         |        1        |\n",
        "|   27  | http://www.spc.noaa.gov/products/watch/ww0168.html                                              |        1        |\n",
        "|   28  | https://tips.fbi.gov/                                                                           |        0        |\n",
        "|   29  | http://www.nasa.gov/mission_pages/mer/news/mer20130517.html                                     |        0        |\n",
        "|   30  | http://www.dodlive.mil/index.php/2013/05/the-2013-warrior-games-a-visual-recap/                 |        3        |\n",
        "+-------+-------------------------------------------------------------------------------------------------+-----------------+\n"
       ]
      }
     ],
     "prompt_number": 101
    },
    {
     "cell_type": "markdown",
     "metadata": {},
     "source": [
      "#Finding the URL with the highest number of Geo data"
     ]
    },
    {
     "cell_type": "code",
     "collapsed": false,
     "input": [
      "geoDataList = [] #List to fing the largest\n",
      "for index in range(len(finalDataList)):\n",
      "    data = finalDataList[index]\n",
      "    geoDataList.append(len(data[1]))\n",
      "\n",
      "#Prof Note: I am sure thre are better ways to do this, but none came to mind\n",
      "maxGeoCodeList = []\n",
      "maxGeoCodeUrl = 'x'\n",
      "\n",
      "for index in range(len(finalDataList)):\n",
      "    data = finalDataList[index]\n",
      "    if max(geoDataList) == len(data[1]):\n",
      "        maxGeoCodeList = data[1]\n",
      "        maxGeoCodeUrl = data[0]\n",
      "\n",
      "print \"URL with the highest Geo codes: \" + maxGeoCodeUrl\n",
      "print \"It has: \" + str(len(maxGeoCodeList)) + \" cordinates\"\n",
      "print \" \"\n",
      "\n",
      "for index in range(len(maxGeoCodeList)):\n",
      "    print maxGeoCodeList[index]"
     ],
     "language": "python",
     "metadata": {},
     "outputs": [
      {
       "output_type": "stream",
       "stream": "stdout",
       "text": [
        "URL with the highest Geo codes: http://science.nasa.gov/media/medialibrary/2013/05/16/17Mar2013_SD_impact_3h50m542.7s.wmv\n",
        "It has: 10 cordinates\n",
        " \n",
        "[18.420799, -66.0616]\n",
        "[42.580399, -71.086998]\n",
        "[18.3386, -65.990097]\n",
        "[39.952301, -75.163803]\n",
        "[18.420799, -66.0616]\n",
        "[39.922298, -75.233398]\n",
        "[18.0688, -65.903099]\n",
        "[18.420799, -66.0616]\n",
        "[18.227301, -66.057999]\n",
        "[41.639801, -81.406502]\n"
       ]
      }
     ],
     "prompt_number": 213
    },
    {
     "cell_type": "markdown",
     "metadata": {},
     "source": [
      "#Now that we have our URL with the highest Count of Geo Codes let's plot it"
     ]
    },
    {
     "cell_type": "code",
     "collapsed": false,
     "input": [
      "print \"create 2 arrays for the latitude and longitude for the plot\"\n",
      "\n",
      "dataList_lat = []\n",
      "dataList_lon = []\n",
      "for index in range(len(maxGeoCodeList)):\n",
      "    dataList_lat.append(maxGeoCodeList[index][0])\n",
      "    dataList_lon.append(maxGeoCodeList[index][1])"
     ],
     "language": "python",
     "metadata": {},
     "outputs": [
      {
       "output_type": "stream",
       "stream": "stdout",
       "text": [
        "create 2 arrays for the latitude and longitude for the plot\n"
       ]
      }
     ],
     "prompt_number": 214
    },
    {
     "cell_type": "code",
     "collapsed": false,
     "input": [
      "print \"Map for the URL: \" + maxGeoCodeUrl\n",
      "import numpy as np\n",
      "from matplotlib import pyplot\n",
      "%matplotlib inline\n",
      "\n",
      "from mpl_toolkits.basemap import Basemap\n",
      "#basemap_graph = Basemap(projection='cyl', lat_0=0.0, lon_0=0.0)\n",
      "basemap_graph = Basemap(width=12000000,height=9000000,projection='lcc',\n",
      "            resolution='c',lat_1=45.,lat_2=30,lat_0=25,lon_0=-75.)\n",
      "#basemap_graph = Basemap(projection='cyl', lat_0=57, lon_0=-100,\n",
      "#    resolution = 'h', area_thresh = 1000.0,\n",
      "#    llcrnrlon=-124.848974, llcrnrlat=-66.885444,\n",
      "#    urcrnrlon=0, urcrnrlat=49.384358)\n",
      "\n",
      "\n",
      "\n",
      "pyplot.figure(figsize=(20,20))\n",
      "basemap_graph.drawcoastlines()\n",
      "basemap_graph.drawcountries()\n",
      "basemap_graph.fillcontinents()\n",
      "basemap_graph.drawmeridians(np.arange(-180,180,20))\n",
      "basemap_graph.drawparallels(np.arange(-90,90,20))\n",
      "\n",
      "x, y = basemap_graph(dataList_lon, dataList_lat)\n",
      "\n",
      "\n",
      "basemap_graph.plot(x, y, 'o', markersize=5, color='red')"
     ],
     "language": "python",
     "metadata": {},
     "outputs": [
      {
       "output_type": "stream",
       "stream": "stdout",
       "text": [
        "Map for the URL: http://science.nasa.gov/media/medialibrary/2013/05/16/17Mar2013_SD_impact_3h50m542.7s.wmv\n"
       ]
      },
      {
       "metadata": {},
       "output_type": "pyout",
       "prompt_number": 215,
       "text": [
        "[<matplotlib.lines.Line2D at 0x323414e0>]"
       ]
      },
      {
       "metadata": {},
       "output_type": "display_data",
       "png": "[encoded data removed]",
       "text": [
        "<matplotlib.figure.Figure at 0x1b24e8d0>"
       ]
      }
     ],
     "prompt_number": 215
    },
    {
     "cell_type": "markdown",
     "metadata": {},
     "source": [
      "If we look at the cords that are being plotted:"
     ]
    },
    {
     "cell_type": "code",
     "collapsed": false,
     "input": [
      "for index in range(len(maxGeoCodeList)):\n",
      "    print maxGeoCodeList[index]"
     ],
     "language": "python",
     "metadata": {},
     "outputs": [
      {
       "output_type": "stream",
       "stream": "stdout",
       "text": [
        "[18.420799, -66.0616]\n",
        "[42.580399, -71.086998]\n",
        "[18.3386, -65.990097]\n",
        "[39.952301, -75.163803]\n",
        "[18.420799, -66.0616]\n",
        "[39.922298, -75.233398]\n",
        "[18.0688, -65.903099]\n",
        "[18.420799, -66.0616]\n",
        "[18.227301, -66.057999]\n",
        "[41.639801, -81.406502]\n"
       ]
      }
     ],
     "prompt_number": 183
    },
    {
     "cell_type": "markdown",
     "metadata": {},
     "source": [
      "It shows that They fall into clusters, that is why there are not many point on the map.\n",
      "\n",
      "I could not zoom in more, but if you look carefully in some points there are obviously more than one cord.\n",
      "\n",
      "#Sumary\n",
      "I was successful at extracting tweets from the gov site data.\n",
      "After filtering out the tweets that had geo code available I was able to Get the URL with the highest number of Tweets and that was ploted in the map"
     ]
    },
    {
     "cell_type": "code",
     "collapsed": false,
     "input": [],
     "language": "python",
     "metadata": {},
     "outputs": []
    }
   ],
   "metadata": {}
  }
 ]
}